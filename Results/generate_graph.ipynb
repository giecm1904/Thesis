{
 "cells": [
  {
   "cell_type": "code",
   "execution_count": null,
   "metadata": {},
   "outputs": [],
   "source": [
    "import pandas as pd\n"
   ]
  },
  {
   "cell_type": "code",
   "execution_count": 3,
   "metadata": {},
   "outputs": [
    {
     "name": "stdout",
     "output_type": "stream",
     "text": [
      "                       timestamp                      pod_name container_name  \\\n",
      "0     2023-03-18 11:33:45.256945  community-3-57bf999865-dtdv8     controller   \n",
      "1     2023-03-18 11:33:45.256945            graph-mst-szwk2b29      graph-mst   \n",
      "2     2023-03-18 11:33:45.256945        prime-numbers-a1opsb6q  prime-numbers   \n",
      "3     2023-03-18 11:33:48.391698  community-3-57bf999865-dtdv8     controller   \n",
      "4     2023-03-18 11:33:48.391698            graph-mst-szwk2b29      graph-mst   \n",
      "...                          ...                           ...            ...   \n",
      "5023  2023-03-18 11:55:42.239905             pagerank-1244ols7       pagerank   \n",
      "5024  2023-03-18 11:55:32.781034                sleep-k2hh3gdn          sleep   \n",
      "5025  2023-03-18 11:55:35.964231                sleep-k2hh3gdn          sleep   \n",
      "5026  2023-03-18 11:55:39.101849                sleep-k2hh3gdn          sleep   \n",
      "5027  2023-03-18 11:55:42.239905                sleep-k2hh3gdn          sleep   \n",
      "\n",
      "     pod_address                     node  cpu           mem  response_time  \n",
      "0     10.42.0.16               k3s-master  0.2  2.000000e+08            0.0  \n",
      "1      10.42.2.8  ea-k3s-node-us-east-2-3  1.0  4.294967e+09            0.0  \n",
      "2      10.42.2.6  ea-k3s-node-us-east-2-3  0.3  8.053064e+08            0.0  \n",
      "3     10.42.0.16               k3s-master  0.2  2.000000e+08            0.0  \n",
      "4      10.42.2.8  ea-k3s-node-us-east-2-3  1.0  4.294967e+09            0.0  \n",
      "...          ...                      ...  ...           ...            ...  \n",
      "5023   10.42.3.9  ea-k3s-node-us-east-2-1  1.0  3.572813e+09            0.0  \n",
      "5024   10.42.1.7  ea-k3s-node-us-east-2-2  1.0  4.294967e+09            0.0  \n",
      "5025   10.42.1.7  ea-k3s-node-us-east-2-2  1.0  4.294967e+09            0.0  \n",
      "5026   10.42.1.7  ea-k3s-node-us-east-2-2  1.0  4.294967e+09            0.0  \n",
      "5027   10.42.1.7  ea-k3s-node-us-east-2-2  1.0  4.294967e+09            0.0  \n",
      "\n",
      "[5028 rows x 8 columns]\n"
     ]
    }
   ],
   "source": [
    "path='//wsl.localhost/Ubuntu/home/angiecepeda/k3s-vertical-scaling-multi-regioncluster-main/csv_files'\n",
    "name_functions=[]\n",
    "df_ = pd.read_csv(path+'/compression_0_pod_log.csv')\n"
   ]
  }
 ],
 "metadata": {
  "kernelspec": {
   "display_name": "Python 3",
   "language": "python",
   "name": "python3"
  },
  "language_info": {
   "codemirror_mode": {
    "name": "ipython",
    "version": 3
   },
   "file_extension": ".py",
   "mimetype": "text/x-python",
   "name": "python",
   "nbconvert_exporter": "python",
   "pygments_lexer": "ipython3",
   "version": "3.8.2"
  },
  "orig_nbformat": 4
 },
 "nbformat": 4,
 "nbformat_minor": 2
}
