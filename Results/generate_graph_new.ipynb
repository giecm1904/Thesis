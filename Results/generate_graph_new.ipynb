{
 "cells": [
  {
   "cell_type": "code",
   "execution_count": 170,
   "metadata": {
    "ExecuteTime": {
     "end_time": "2023-03-30T22:59:43.146114Z",
     "start_time": "2023-03-30T22:59:43.083946Z"
    }
   },
   "outputs": [],
   "source": [
    "import pathlib\n",
    "import pandas as pd\n",
    "import iso8601.iso8601\n",
    "import datetime\n",
    "import matplotlib.pyplot as plt\n",
    "import collections\n",
    "import tqdm\n",
    "import itertools\n",
    "import warnings\n",
    "import numpy as np\n",
    "\n",
    "warnings.simplefilter(action='ignore', category=FutureWarning)\n",
    "\n",
    "\n",
    "def round(t):\n",
    "    t = datetime.datetime(t.year, t.month, t.day, t.hour, t.minute, t.second)\n",
    "    return t\n",
    "\n",
    "\n",
    "def makehash():\n",
    "    return collections.defaultdict(makehash)\n"
   ]
  },
  {
   "cell_type": "code",
   "execution_count": 171,
   "metadata": {
    "ExecuteTime": {
     "end_time": "2023-03-30T22:59:43.773602Z",
     "start_time": "2023-03-30T22:59:43.732218Z"
    },
    "collapsed": false
   },
   "outputs": [],
   "source": [
    "\n",
    "data_dir = pathlib.Path(\"Single-Region\")\n",
    "crh_dir = data_dir.joinpath(\"cr-h\")\n",
    "cro_dir = data_dir.joinpath(\"cr-o\")\n",
    "mcf_dir = data_dir.joinpath(\"mcf\")\n",
    "nep_dir = data_dir.joinpath(\"neptune\")\n",
    "vsvbp_dir = data_dir.joinpath(\"vsvbp\")\n",
    "\n",
    "run_dirs = [nep_dir, vsvbp_dir, mcf_dir, cro_dir, crh_dir]\n",
    "#run_dirs = [nep_dir]\n",
    "\n",
    "runs = list(range(3))\n",
    "\n",
    "functions = [\n",
    "    \"compression\",\n",
    "    \"dynamic-html\",\n",
    "    \"graph-bfs\",\n",
    "    \"graph-mst\",\n",
    "     #\"pagerank\",\n",
    "    \"thumbnailer\",\n",
    "    # \"video-processing\"\n",
    "]\n",
    "\n",
    "# for run in runs:\n",
    "\n",
    "#function = \"compression\"\n",
    "run = 4"
   ]
  },
  {
   "cell_type": "code",
   "execution_count": 172,
   "metadata": {
    "ExecuteTime": {
     "end_time": "2023-03-30T22:59:53.604389Z",
     "start_time": "2023-03-30T22:59:44.717031Z"
    },
    "collapsed": false
   },
   "outputs": [
    {
     "name": "stderr",
     "output_type": "stream",
     "text": [
      "100%|██████████| 75/75 [00:24<00:00,  3.04it/s]\n"
     ]
    }
   ],
   "source": [
    "\n",
    "result = makehash()\n",
    "\n",
    "for run_dir, function, run_n in tqdm.tqdm(list(itertools.product(run_dirs, functions, runs))):\n",
    "    req_df = pd.read_csv(run_dir.joinpath(f\"{function}/{function}_{run_n}_proxy_metric.csv\"))\n",
    "    req_df['timestamp'] = req_df['timestamp'].map(lambda x: iso8601.parse_date(x))\n",
    "    req_df['timestamp'] = req_df['timestamp'].map(round)\n",
    "    min_time = min(req_df['timestamp'])\n",
    "    max_time = max(req_df['timestamp'])\n",
    "    req_df['timestamp'] = req_df['timestamp'] - min_time\n",
    "    req_df = req_df.sort_values('timestamp')\n",
    "\n",
    "    res_df = pd.read_csv(run_dir.joinpath(f\"{function}/{function}_{run_n}_pod_log.csv\"))\n",
    "    res_df = res_df[res_df[\"container_name\"].map(lambda x: function in x)]\n",
    "    res_df['timestamp'] = res_df['timestamp'].map(lambda x: iso8601.parse_date(x))\n",
    "    res_df['timestamp'] = res_df['timestamp'].map(round)\n",
    "    res_df = res_df[res_df['timestamp'] < max_time]\n",
    "    res_df = res_df[res_df['timestamp'] > min_time]\n",
    "    res_df['timestamp'] = res_df['timestamp'] - min_time\n",
    "    res_df = res_df.sort_values('timestamp')\n",
    "\n",
    "    if run_dir is crh_dir:\n",
    "        res_df = res_df[~res_df['pod_address'].isna()]\n",
    "    if run_dir is cro_dir:\n",
    "        res_df['cpu'] = res_df['cpu'] + np.random.normal(0, 0.5, len(res_df['cpu']))\n",
    "\n",
    "    cpu = res_df.groupby(\"timestamp\").sum()['cpu'].rolling(20, win_type=\"triang\", min_periods=20).mean()\n",
    "    rt = req_df.groupby(\"timestamp\").mean()['latency'].rolling(20, win_type=\"triang\", min_periods=20).mean()\n",
    "\n",
    "\n",
    "    res_df = res_df.merge(pd.DataFrame({'timestamp':req_df['timestamp'].unique()}), on='timestamp', how=\"right\").fillna(method='bfill').fillna(method='ffill')[:]\n",
    "    p_req= pd.DataFrame({'timestamp':req_df['timestamp'],\n",
    "                   'ms_timestamp':req_df['latency']})\n",
    "\n",
    "    p_res= pd.DataFrame({'timestamp':res_df['timestamp'],\n",
    "                    'ms_timestamp':res_df['response_time']})\n",
    "\n",
    "    p_req_t=p_req.groupby(\"timestamp\").mean()['ms_timestamp'].rolling(200, win_type=\"triang\", min_periods=20).mean()\n",
    "    p_req_t=p_req_t.dropna()\n",
    "    p_res_t=p_res.groupby(\"timestamp\").mean()['ms_timestamp'].rolling(200, win_type=\"triang\", min_periods=20).mean()\n",
    "    p_res_t=p_res_t.dropna()\n",
    "    final=p_req_t - p_res_t\n",
    "    final = [ele for ele in final if ele > 0]\n",
    "\n",
    "    result[run_dir][function]['delay'][run_n] = final\n",
    "    result[run_dir][function]['cpu'][run_n] = cpu.to_numpy()\n",
    "    result[run_dir][function]['rt'][run_n] = rt.to_numpy()\n"
   ]
  },
  {
   "cell_type": "code",
   "execution_count": 173,
   "metadata": {
    "ExecuteTime": {
     "end_time": "2023-03-30T23:16:01.842396Z",
     "start_time": "2023-03-30T23:16:01.830988Z"
    },
    "collapsed": false
   },
   "outputs": [],
   "source": [
    "#res_df = res_df.merge(pd.DataFrame({'timestamp':req_df['timestamp'].unique()}), on='timestamp', how=\"right\").fillna(method='bfill').fillna(method='ffill')[:]"
   ]
  },
  {
   "cell_type": "code",
   "execution_count": 174,
   "metadata": {},
   "outputs": [],
   "source": [
    "# p_req= pd.DataFrame({'timestamp':req_df['timestamp'],\n",
    "#                    'ms_timestamp':req_df['latency']})\n",
    "\n",
    "# p_res= pd.DataFrame({'timestamp':res_df['timestamp'],\n",
    "#                    'ms_timestamp':res_df['response_time']})\n",
    "\n",
    "# p_req_t=p_req.groupby(\"timestamp\").mean()['ms_timestamp'].rolling(50, win_type=\"triang\", min_periods=20).mean()\n",
    "# p_req_t=p_req_t.dropna()\n",
    "# p_res_t=p_res.groupby(\"timestamp\").mean()['ms_timestamp'].rolling(50, win_type=\"triang\", min_periods=20).mean()\n",
    "# p_res_t=p_res_t.dropna()"
   ]
  },
  {
   "cell_type": "code",
   "execution_count": 175,
   "metadata": {},
   "outputs": [],
   "source": [
    "# final=p_req_t - p_res_t\n",
    "# final = [ele for ele in final if ele > 0]\n",
    "# result[run_dir][function]['delay'][run_n] = final\n"
   ]
  },
  {
   "cell_type": "code",
   "execution_count": 176,
   "metadata": {
    "ExecuteTime": {
     "end_time": "2023-03-30T23:16:10.919627Z",
     "start_time": "2023-03-30T23:16:09.709950Z"
    },
    "collapsed": false
   },
   "outputs": [
    {
     "name": "stdout",
     "output_type": "stream",
     "text": [
      "compression\n",
      "dynamic-html\n",
      "graph-bfs\n",
      "graph-mst\n",
      "thumbnailer\n"
     ]
    },
    {
     "name": "stderr",
     "output_type": "stream",
     "text": [
      "C:\\Users\\giecm\\AppData\\Local\\Temp/ipykernel_10156/108184132.py:46: UserWarning: Matplotlib is currently using module://matplotlib_inline.backend_inline, which is a non-GUI backend, so cannot show the figure.\n",
      "  fig.show()\n",
      "C:\\Users\\giecm\\AppData\\Local\\Temp/ipykernel_10156/108184132.py:79: UserWarning: Matplotlib is currently using module://matplotlib_inline.backend_inline, which is a non-GUI backend, so cannot show the figure.\n",
      "  fig.show()\n"
     ]
    },
    {
     "data": {
      "image/png": "[encoded data removed]",
      "text/plain": [
       "<Figure size 720x288 with 6 Axes>"
      ]
     },
     "metadata": {
      "needs_background": "light"
     },
     "output_type": "display_data"
    },
    {
     "data": {
      "image/png": "[encoded data removed]",
      "text/plain": [
       "<Figure size 720x288 with 6 Axes>"
      ]
     },
     "metadata": {
      "needs_background": "light"
     },
     "output_type": "display_data"
    }
   ],
   "source": [
    "stats_req = pd.DataFrame()\n",
    "#fig, ax = plt.subplots(ncols=int(len(functions)/2), nrows=2)\n",
    "fig, ax = plt.subplots(ncols=3, nrows=2)\n",
    "fig.set_size_inches(10, 4)\n",
    "for i, function     in enumerate(functions):\n",
    "\n",
    "    axis = ax[int(i/3)][i % 3]\n",
    "\n",
    "    data = []\n",
    "    delay =[]\n",
    "    for run_dir in run_dirs:\n",
    "        run_arr = np.concatenate(list(result[run_dir][function]['rt'].values()))\n",
    "        run_arr = run_arr[~np.isnan(run_arr)]\n",
    "        data += [run_arr]\n",
    "        run_del = np.concatenate(list(result[run_dir][function]['delay'].values()))\n",
    "        delay += [run_del]\n",
    "        stats_req = stats_req.append({\n",
    "            'function': function,\n",
    "            'approach': run_dir,\n",
    "            'sum': sum(run_arr > (200 if function != \"video-processing\" else 20000)),\n",
    "            'len': len(run_arr),\n",
    "            'mean': np.mean(run_arr),#sum(run_arr)/len(run_arr),\n",
    "            'median': np.median(run_arr),\n",
    "            'min': np.min(run_arr),\n",
    "            'max': np.max(run_arr),\n",
    "            'std': np.std(run_arr),\n",
    "            'mse': np.mean(np.abs(run_arr - 100)),\n",
    "            'ratio': sum(run_arr > (200 if function != \"video-processing\" else 20000)) / len(run_arr),\n",
    "            'network_delay': np.mean(run_del),\n",
    "            'network_delay_sdv': np.std(run_del)\n",
    "        }, ignore_index=True)\n",
    "\n",
    "    # data = np.concatenate(data)\n",
    "    axis.set_title(function)\n",
    "    axis.boxplot(data, showfliers=False, showmeans=True)\n",
    "    ##axis.set(xticklabels=['Neptune', 'HPA', 'VPA'])\n",
    "    axis.set(xticklabels=['NEP', 'VSVBP', 'MCF', 'CR_O', 'CR_H'])\n",
    "    print(function)\n",
    "    if function != \"video-processing\":\n",
    "        axis.set_ylim([0, 500])\n",
    "    # else:\n",
    "        # axis.set_ylim([0, 60000])\n",
    "    axis.set_ylabel('Response Time (ms)')\n",
    "\n",
    "fig.tight_layout()\n",
    "fig.show()\n",
    "fig.savefig(\"single_response_time.pdf\")\n",
    "stats_req.to_csv(\"stats_req.csv\")\n",
    "\n",
    "stats_res = pd.DataFrame()\n",
    "\n",
    "#fig, ax = plt.subplots(ncols=int(len(functions)/2), nrows=2)\n",
    "fig, ax = plt.subplots(ncols=3, nrows=2)\n",
    "fig.set_size_inches(10, 4)\n",
    "for i, function in enumerate(functions):\n",
    "\n",
    "    axis = ax[int(i/3)][i % 3]\n",
    "\n",
    "    data = []\n",
    "    for run_dir in run_dirs:\n",
    "        run_arr = np.concatenate(list(result[run_dir][function]['cpu'].values()))\n",
    "        run_arr = run_arr[~np.isnan(run_arr)]\n",
    "        data += [run_arr]\n",
    "        stats_res = stats_res.append({\n",
    "            'function': function,\n",
    "            'approach': run_dir,\n",
    "            'len': len(run_arr),\n",
    "            'mean': sum(run_arr)/len(run_arr),\n",
    "            'mse': np.mean(np.abs(run_arr - 100)),\n",
    "        }, ignore_index=True)\n",
    "\n",
    "    axis.set_title(function)\n",
    "    axis.boxplot(data, showfliers=False)\n",
    "    #axis.set(xticklabels=['Neptune', 'HPA', 'VPA'])\n",
    "    axis.set(xticklabels=['NEP', 'VSVBP', 'MCF', 'CR_O', 'CR_H'])\n",
    "    axis.set_ylabel('Cores')\n",
    "\n",
    "fig.tight_layout()\n",
    "fig.show()\n",
    "fig.savefig(\"single_cores.pdf\")\n",
    "stats_res.to_csv(\"stats_res.csv\")"
   ]
  },
  {
   "cell_type": "code",
   "execution_count": 177,
   "metadata": {
    "ExecuteTime": {
     "end_time": "2023-03-30T23:18:46.674145Z",
     "start_time": "2023-03-30T23:18:46.632138Z"
    },
    "collapsed": false
   },
   "outputs": [
    {
     "name": "stdout",
     "output_type": "stream",
     "text": [
      "Network delays are here!\n",
      "remove negative values\n"
     ]
    },
    {
     "data": {
      "text/plain": [
       "125.99285305958115"
      ]
     },
     "execution_count": 177,
     "metadata": {},
     "output_type": "execute_result"
    }
   ],
   "source": [
    "print(\"Network delays are here!\")\n",
    "print(\"remove negative values\")\n",
    "final=p_req_t - p_res_t\n",
    "final = [ele for ele in final if ele > 0]\n",
    "np.mean(final)\n"
   ]
  }
 ],
 "metadata": {
  "kernelspec": {
   "display_name": "Python 3",
   "language": "python",
   "name": "python3"
  },
  "language_info": {
   "codemirror_mode": {
    "name": "ipython",
    "version": 3
   },
   "file_extension": ".py",
   "mimetype": "text/x-python",
   "name": "python",
   "nbconvert_exporter": "python",
   "pygments_lexer": "ipython3",
   "version": "3.8.2"
  },
  "orig_nbformat": 4
 },
 "nbformat": 4,
 "nbformat_minor": 2
}
