{
 "cells": [
  {
   "cell_type": "code",
   "execution_count": 1,
   "metadata": {},
   "outputs": [],
   "source": [
    "#from ortools.linear_solver import pywraplp\n",
    "from ortools.init import pywrapinit\n",
    "import numpy as np\n",
    "from numpy import linalg as LA\n",
    "import pandas as pd\n",
    "from math import radians, cos, sin, asin, sqrt\n",
    "import random\n",
    "from ortools.sat.python import cp_model"
   ]
  },
  {
   "cell_type": "code",
   "execution_count": 2,
   "metadata": {},
   "outputs": [],
   "source": [
    "#-----------------------------------EXTRACT THE DATA-----------------------------------\n",
    "\n",
    "# users-melbcbd-generated.csv contains:\n",
    "# •  Latitude-Longitude\n",
    "# of the users in the Melbourne CBD area.\n",
    "users_path = 'eua-dataset\\\\users\\\\'\n",
    "#U = pd.read_csv(users_path + 'users-test.csv')\n",
    "U = pd.read_csv(users_path + 'users-test-more-users.csv')\n",
    "\n",
    "# site-optus-melbCBD.csv contains:\n",
    "# •  SiteID-Latitude-Longitude-Name-State-LicensingAreaID-PostCode-SitePrecision-Elevation-HCISL2\n",
    "# of all Optus BS in Melbourne CBD area (edge-servers)\n",
    "servers_path = 'eua-dataset\\\\edge-servers\\\\'\n",
    "#S = pd.read_csv(servers_path + 'serverstest.csv')\n",
    "S = pd.read_csv(servers_path + 'serverstest-more-servers.csv')"
   ]
  },
  {
   "cell_type": "code",
   "execution_count": 3,
   "metadata": {},
   "outputs": [],
   "source": [
    "\n",
    "#-----------------------------------VARIABLES-----------------------------------\n",
    "U_si = [] #set of individuals allocated to server si\n",
    "D = np.zeros((4), dtype=int) # D = [CPU, RAM, storage, bandwidth]\n",
    "\n",
    "#User u has memory requirements = w (example for 8 users)\n",
    "w1 = [1, 2, 1, 2]\n",
    "w2 = [1, 2,\t1, 2]\n",
    "w3 = [5, 7,\t6, 6]\n",
    "w4 = [2, 3,\t3, 4]\n",
    "w5 = [5, 7,\t6, 6]\n",
    "w6 = [2, 3,\t3, 4]\n",
    "w7 = [1, 2, 1, 2]\n",
    "w8 = [2, 3,\t3, 4]\n",
    "w9 = [1, 2, 1, 2]\n",
    "w10 = [1, 2, 1, 2]\n",
    "w11 = [5, 7, 6, 6]\n",
    "w12 = [2, 3, 3, 4]\n",
    "w13 = [5, 7, 6, 6]\n",
    "w14 = [2, 3, 3, 4]\n",
    "W = [w1, w2, w3, w4, w5, w6, w7, w8, w9, w10, w11, w12, w13, w14]\n",
    "\n",
    "# Each server has memory capacity c (example for 3 servers)\n",
    "c1 = [12, 15, 15, 16]\n",
    "c2 = [10, 17, 15, 16]\n",
    "c3 = [10, 15, 11, 15]\n",
    "c4 = [10, 16, 15, 17]\n",
    "c5 = [12, 12, 12, 13]\n",
    "c6 = [9, 13, 12, 14]\n",
    "C = [c1, c2, c3, c4, c5, c6]\n",
    "\n",
    "NORM = [LA.norm(w1), LA.norm(w2), LA.norm(w3), LA.norm(w4), LA.norm(w5), LA.norm(w6), LA.norm(w7), LA.norm(w8), LA.norm(w9), LA.norm(w10), LA.norm(w11), LA.norm(w12), LA.norm(w13), LA.norm(w14)]\n",
    "\n",
    "index = sorted(range(len(NORM)), key=lambda a: NORM[a]) #increasing order of the index of user based on NORM\n"
   ]
  },
  {
   "cell_type": "code",
   "execution_count": null,
   "metadata": {},
   "outputs": [],
   "source": [
    "'''\n",
    "#-----------------------------------VARIABLES-----------------------------------\n",
    "U_si = [] #set of individuals allocated to server si\n",
    "D = np.zeros((4), dtype=int) # D = [CPU, RAM, storage, bandwidth]\n",
    "\n",
    "# Users u has memory requirements = w_j\n",
    "W = []\n",
    "NORM = []\n",
    "for j in range(len(U)):\n",
    "  w = np.random.randint(1,7,4)\n",
    "  W.append(w)\n",
    "  norm = LA.norm(w)\n",
    "  NORM.append(norm)\n",
    "\n",
    "index = sorted(range(len(NORM)), key=lambda a: NORM[a])\n",
    "\n",
    "# Each server has memory capacity C\n",
    "C = []\n",
    "for j in range(len(S)):\n",
    "  c = np.random.randint(5,17,4)\n",
    "  C.append(c)\n",
    "'''"
   ]
  },
  {
   "cell_type": "code",
   "execution_count": 4,
   "metadata": {},
   "outputs": [],
   "source": [
    "#-----------------------------------COVERAGE OF EACH SERVER-----------------------------------\n",
    "\n",
    "def haversine(lon1, lat1, lon2, lat2):\n",
    "  \n",
    "    # convert decimal degrees to radians \n",
    "    lon1, lat1, lon2, lat2 = map(radians, [lon1, lat1, lon2, lat2])\n",
    "\n",
    "    # haversine formula \n",
    "    dlon = lon2 - lon1 \n",
    "    dlat = lat2 - lat1 \n",
    "    a = sin(dlat/2)**2 + cos(lat1) * cos(lat2) * sin(dlon/2)**2\n",
    "    c = 2 * asin(sqrt(a)) \n",
    "    r = 6371 # Radius of earth in kilometers. Use 3956 for miles\n",
    "    return c * r\n",
    "\n",
    "for i in range(len(S)):\n",
    "  server_latitude = S.iloc[i]['LATITUDE']\n",
    "  server_longitude = S.iloc[i]['LONGITUDE']\n",
    "  temp = []\n",
    "  for j in range(len(U)):\n",
    "    user_latitude = U.iloc[j]['Latitude']\n",
    "    user_longitude = U.iloc[j]['Longitude']\n",
    "\n",
    "    radius = 0.03 # in kilometer\n",
    "    #radius = round(random.uniform(0.1,0.15),3)\n",
    "\n",
    "    dist_geo = haversine(server_longitude, server_latitude, user_longitude, user_latitude)\n",
    "\n",
    "    if dist_geo <= radius:\n",
    "        temp.append(1)\n",
    "        \n",
    "    else:\n",
    "        temp.append(0)\n",
    "       \n",
    "  U_si.append(temp)\n"
   ]
  },
  {
   "cell_type": "code",
   "execution_count": 6,
   "metadata": {},
   "outputs": [
    {
     "name": "stdout",
     "output_type": "stream",
     "text": [
      "satisfaction model '':\n",
      "#Variables: 27\n",
      "  - 27 Booleans in [0,1]\n",
      "\n"
     ]
    }
   ],
   "source": [
    "#---------------------------------- CP MODEL ----------------------------------\n",
    "model = cp_model.CpModel()\n",
    "\n",
    "#-----------------------------------SOLVER VARIABLES-----------------------------------\n",
    "\n",
    "# x_i,j = True if user u_j is allocated to edge server s_i\n",
    "# x_i,j = False otherwise\n",
    "x = {}\n",
    "for j in index:\n",
    "    for i in range(len(S)):\n",
    "        x[i, j] = model.NewBoolVar(f'c[{i}][{j}]')\n",
    "\n",
    "# y_i = True if edge server s_i is used to serve users\n",
    "# y_i = False otherwise\n",
    "y = {}\n",
    "for i in range(len(S)):\n",
    "    y[i] = model.NewBoolVar(f'c[{i}]')\n",
    "\n",
    "print(model.ModelStats())"
   ]
  },
  {
   "cell_type": "code",
   "execution_count": 7,
   "metadata": {},
   "outputs": [
    {
     "name": "stdout",
     "output_type": "stream",
     "text": [
      "satisfaction model '':\n",
      "#Variables: 27\n",
      "  - 27 Booleans in [0,1]\n",
      "#kLinear1: 11\n",
      "#kLinear3: 8\n",
      "#kLinearN: 12 (#terms: 108)\n"
     ]
    }
   ],
   "source": [
    "#-----------------------------------CONSTRAINTS-----------------------------------\n",
    "\n",
    "#Proximity constraint\n",
    "for j in index:\n",
    "    for i in range(len(S)):\n",
    "        if U_si[i][j] == 0:\n",
    "            model.Add(\n",
    "             x[i, j]==0\n",
    "            )\n",
    "\n",
    "# Capacity constraint\n",
    "for i in range(len(S)):\n",
    "    for k in range(len(D)):\n",
    "        model.Add(\n",
    "            sum([\n",
    "                x[i, j] * W[j][k] for j in index\n",
    "            ]) <= C[i][k]*y[i]\n",
    "        )\n",
    "\n",
    "# Each user can be allocated just once\n",
    "for j in index:\n",
    "    model.Add(\n",
    "        sum([\n",
    "            x[i, j] for i in range(len(S))\n",
    "        ]) <= 1\n",
    "    )\n",
    "\n",
    "print(model.ModelStats())"
   ]
  },
  {
   "cell_type": "code",
   "execution_count": 8,
   "metadata": {},
   "outputs": [
    {
     "name": "stdout",
     "output_type": "stream",
     "text": [
      "optimization model '':\n",
      "#Variables: 27 (#bools:3 in objective)\n",
      "  - 27 Booleans in [0,1]\n",
      "#kLinear1: 11\n",
      "#kLinear3: 8\n",
      "#kLinearN: 13 (#terms: 132)\n"
     ]
    }
   ],
   "source": [
    "#---------------------------------- CP SOLVER ----------------------------------\n",
    "solver = cp_model.CpSolver()\n",
    "\n",
    "#---------------------------------- OBJECTIVE FUNCTIONS ---------------------------------\n",
    "\n",
    "# Maximize the number of allocated users\n",
    "objective_max = []\n",
    "for j in index:\n",
    "    for i in range(len(S)):\n",
    "        objective_max.append(x[i, j])\n",
    "model.Maximize(sum(objective_max))\n",
    "\n",
    "solver.Solve(model)\n",
    "max_users = solver.ObjectiveValue()\n",
    "\n",
    "# Hint (speed up solving)\n",
    "for j in index:\n",
    "    for i in range(len(S)):\n",
    "        model.AddHint(x[i,j], solver.Value(x[i,j]))\n",
    "\n",
    "for i in range(len(S)):\n",
    "    model.AddHint(y[i], solver.Value(y[i]))\n",
    "        \n",
    "# constraint prev objective\n",
    "model.Add(\n",
    "    sum([\n",
    "        x[i, j] for i in range(len(S)) for j in index\n",
    "    ]) == round(solver.ObjectiveValue())\n",
    ")\n",
    "\n",
    "# Minimize the number of servers used\n",
    "objective_min = []\n",
    "for i in range(len(S)):\n",
    "    objective_min.append(y[i])\n",
    "model.Minimize(sum(objective_min))\n",
    "\n",
    "print(model.ModelStats())"
   ]
  },
  {
   "cell_type": "code",
   "execution_count": 9,
   "metadata": {},
   "outputs": [
    {
     "name": "stdout",
     "output_type": "stream",
     "text": [
      "Solution:\n",
      "Objective value: 8.0 users have been allocated to 2.0 servers\n",
      "\n",
      "User 0 has been allocated on server 2\n",
      "User 1 has been allocated on server 1\n",
      "User 6 has been allocated on server 2\n",
      "User 3 has been allocated on server 1\n",
      "User 5 has been allocated on server 1\n",
      "User 7 has been allocated on server 2\n",
      "User 2 has been allocated on server 2\n",
      "User 4 has been allocated on server 1\n"
     ]
    }
   ],
   "source": [
    "#-----------------------------------CALL THE SOLVER-----------------------------------\n",
    "status = solver.Solve(model)\n",
    "\n",
    "#-----------------------------------DISPLAY THE SOLUTION-----------------------------------\n",
    "\n",
    "if status == cp_model.OPTIMAL or status == cp_model.FEASIBLE:\n",
    "    print('Solution:')\n",
    "    print(f'Objective value: {max_users} users have been allocated to {solver.ObjectiveValue()} servers\\n')\n",
    "    for j in index:\n",
    "        for i in range(len(S)):\n",
    "            if int(solver.Value(x[i,j])) == 1:\n",
    "                print(f'User {j} has been allocated on server {i}')\n",
    "else:\n",
    "    print('The problem does not have an optimal solution.')"
   ]
  }
 ],
 "metadata": {
  "kernelspec": {
   "display_name": "Python 3.8.10 64-bit",
   "language": "python",
   "name": "python3"
  },
  "language_info": {
   "codemirror_mode": {
    "name": "ipython",
    "version": 3
   },
   "file_extension": ".py",
   "mimetype": "text/x-python",
   "name": "python",
   "nbconvert_exporter": "python",
   "pygments_lexer": "ipython3",
   "version": "3.8.10"
  },
  "orig_nbformat": 4,
  "vscode": {
   "interpreter": {
    "hash": "570feb405e2e27c949193ac68f46852414290d515b0ba6e5d90d076ed2284471"
   }
  }
 },
 "nbformat": 4,
 "nbformat_minor": 2
}
