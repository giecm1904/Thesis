{
 "cells": [
  {
   "cell_type": "code",
   "execution_count": 1,
   "metadata": {},
   "outputs": [],
   "source": [
    "from ortools.linear_solver import pywraplp\n",
    "from ortools.init import pywrapinit\n",
    "import numpy as np\n",
    "import pandas as pd"
   ]
  },
  {
   "cell_type": "code",
   "execution_count": 2,
   "metadata": {},
   "outputs": [],
   "source": [
    "# Servers\n",
    "S = list(range(0, 8))\n",
    "\n",
    "# D = {Resource type: CPU, disk I/O, remaining capacity.....}\n",
    "CPU = 1\n",
    "RAM = 2\n",
    "storage = 3\n",
    "BW = 4\n",
    "D = [CPU, RAM, storage, BW]\n",
    "\n",
    "# Each server has memory capacity C\n",
    "C= [[CPU for i in S],[RAM for i in S],[storage for i in S],[BW for i in S]]\n",
    "\n",
    "# Users\n",
    "U = list(range(0, 8))\n",
    "\n",
    "# Users u has memory requirements = w_j\n",
    "w = [[CPU for j in U],[RAM for j in U],[storage for j in U],[BW for j in U]]\n",
    "\n",
    "#Distance between server Si and Uj\n",
    "#Dist = \n",
    "\n",
    "#Coverage radius of server Si\n",
    "#Cov = \n"
   ]
  },
  {
   "cell_type": "code",
   "execution_count": null,
   "metadata": {},
   "outputs": [],
   "source": [
    "########## DECLARE THE MIP Solver ##########\n",
    "solver = pywraplp.Solver.CreateSolver('SCIP')"
   ]
  },
  {
   "cell_type": "code",
   "execution_count": null,
   "metadata": {},
   "outputs": [],
   "source": [
    "########## DEFINE THE VARIABLES ##########\n",
    "# x_i,j = True if user u_j is allocated to edge server s_i\n",
    "# x_i,j = False otherwise\n",
    "x = {}\n",
    "for j in U:\n",
    "    for i in S:\n",
    "        x[i, j] = solver.BoolVar(f'c[{i}][{j}]')\n",
    "        #print(x[i,j])\n",
    "\n",
    "# y_i = True if edge server s_i is used to serve users\n",
    "# y_i = False otherwise\n",
    "y = {}\n",
    "for i in S:\n",
    "    y[i] = solver.BoolVar(f'c[{i}]')\n",
    "\n",
    "print('Number of variables =', solver.NumVariables())"
   ]
  },
  {
   "cell_type": "code",
   "execution_count": null,
   "metadata": {},
   "outputs": [],
   "source": [
    "########## DEFINE THE CONSTRAINTS ##########\n",
    "\n",
    "# For each server i\n",
    "# the sum of memory requirements of the users allocated to server i\n",
    "# does not exceed the memory capacity of i\n",
    "for i in range(len(S)):\n",
    "    for k in range(len(D)):\n",
    "        solver.Add(\n",
    "            solver.Sum([\n",
    "                x[i, j] * w[k][j] for j in range(len(U))\n",
    "            ]) <= C[k][i]*y[i]\n",
    "        )\n",
    "\n",
    "\n",
    "#Proximity constraint\n",
    "#for i in U:\n",
    "    #for j in U:\n",
    "        # Missing coverage condition: \n",
    "        #solver.Add(\n",
    "            #Dist [i, j]<= Cov[i]\n",
    "        #)\n",
    "\n",
    "\n",
    "# Each user can be allocated just once\n",
    "for j in U:\n",
    "    solver.Add(\n",
    "        solver.Sum([x[i, j] for i in S]) <= 1\n",
    "    )\n",
    "\n",
    "# Constraint: x, y [0,1] (Boolean Variables)\n",
    "# has already been included in the definition of the variables\n",
    "\n",
    "print('Number of constraints =', solver.NumConstraints())"
   ]
  },
  {
   "cell_type": "code",
   "execution_count": null,
   "metadata": {},
   "outputs": [],
   "source": [
    "########## DEFINE THE OBJECTIVE ##########\n",
    "\n",
    "# Maximize the number of allocated users\n",
    "objective = solver.Objective()\n",
    "for j in U:\n",
    "    for i in S:\n",
    "        objective.SetCoefficient(x[i, j], 1)\n",
    "objective.SetMaximization()\n",
    "\n",
    "# Minimize the number of required edge servers\n",
    "#objectiveMin = solver.Objective()\n",
    "\n",
    "#for i in U:\n",
    " #   objectiveMin.SetCoefficient(y[i], 1)\n",
    "#objectiveMin.SetMinimization()"
   ]
  },
  {
   "cell_type": "code",
   "execution_count": null,
   "metadata": {},
   "outputs": [],
   "source": [
    "########## CALL THE SOLVER ##########\n",
    "status = solver.Solve()\n",
    "\n",
    "\n",
    "########### DISPLAY THE SOLUTION ##########\n",
    "if status == pywraplp.Solver.OPTIMAL:\n",
    "    print('Solution:')\n",
    "    print('Objective value =', solver.Objective().Value())\n",
    "    for j in U:\n",
    "        for i in S:\n",
    "            if int(x[i,j].solution_value()) == 1:\n",
    "                print(f'User {j} has been allocated on node {i}')\n",
    "else:\n",
    "    print('The problem does not have an optimal solution.')"
   ]
  }
 ],
 "metadata": {
  "kernelspec": {
   "display_name": "Python 3.8.2 64-bit",
   "language": "python",
   "name": "python3"
  },
  "language_info": {
   "codemirror_mode": {
    "name": "ipython",
    "version": 3
   },
   "file_extension": ".py",
   "mimetype": "text/x-python",
   "name": "python",
   "nbconvert_exporter": "python",
   "pygments_lexer": "ipython3",
   "version": "3.8.2"
  },
  "orig_nbformat": 4,
  "vscode": {
   "interpreter": {
    "hash": "570feb405e2e27c949193ac68f46852414290d515b0ba6e5d90d076ed2284471"
   }
  }
 },
 "nbformat": 4,
 "nbformat_minor": 2
}
