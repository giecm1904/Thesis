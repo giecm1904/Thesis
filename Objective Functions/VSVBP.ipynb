{
 "cells": [
  {
   "cell_type": "code",
   "execution_count": 1,
   "metadata": {},
   "outputs": [],
   "source": [
    "from ortools.linear_solver import pywraplp\n",
    "from ortools.init import pywrapinit\n",
    "import numpy as np\n",
    "from numpy import linalg as LA\n",
    "import pandas as pd\n",
    "from math import radians, cos, sin, asin, sqrt"
   ]
  },
  {
   "cell_type": "code",
   "execution_count": 2,
   "metadata": {},
   "outputs": [],
   "source": [
    "##### EXTRACT THE DATA #####\n",
    "\n",
    "# users-melbcbd-generated.csv contains:\n",
    "# •  Latitude-Longitude\n",
    "# of the users in the Melbourne CBD area.\n",
    "users_path = 'eua-dataset\\\\users\\\\'\n",
    "U = pd.read_csv(users_path + 'users-test.csv')\n",
    "\n",
    "# site-optus-melbCBD.csv contains:\n",
    "# •  SiteID-Latitude-Longitude-Name-State-LicensingAreaID-PostCode-SitePrecision-Elevation-HCISL2\n",
    "# of all Optus BS in Melbourne CBD area (edge-servers)\n",
    "servers_path = 'eua-dataset\\\\edge-servers\\\\'\n",
    "S = pd.read_csv(servers_path + 'serverstest.csv')\n"
   ]
  },
  {
   "cell_type": "code",
   "execution_count": 3,
   "metadata": {},
   "outputs": [],
   "source": [
    "##### COVERAGE OF EACH SERVER #####\n",
    "\n",
    "def haversine(lon1, lat1, lon2, lat2):\n",
    "    \"\"\"\n",
    "    Calculate the great circle distance between two points \n",
    "    on the earth (specified in decimal degrees)\n",
    "    \"\"\"\n",
    "    # convert decimal degrees to radians \n",
    "    lon1, lat1, lon2, lat2 = map(radians, [lon1, lat1, lon2, lat2])\n",
    "\n",
    "    # haversine formula \n",
    "    dlon = lon2 - lon1 \n",
    "    dlat = lat2 - lat1 \n",
    "    a = sin(dlat/2)**2 + cos(lat1) * cos(lat2) * sin(dlon/2)**2\n",
    "    c = 2 * asin(sqrt(a)) \n",
    "    r = 6371 # Radius of earth in kilometers. Use 3956 for miles\n",
    "    return c * r\n",
    "\n",
    "dij = []\n",
    "radius = np.round(np.random.uniform(0.45,0.75,len(S)),3) #in Km\n",
    "#radius = [0.03, 0.03, 0.03]\n",
    "\n",
    "for i in range(len(S)):\n",
    "  server_latitude = S.iloc[i]['LATITUDE']\n",
    "  server_longitude = S.iloc[i]['LONGITUDE']\n",
    "  temp = []\n",
    "  dist_temp = []\n",
    "  for j in range(len(U)):\n",
    "    user_latitude = U.iloc[j]['Latitude']\n",
    "    user_longitude = U.iloc[j]['Longitude']\n",
    "\n",
    "    a = haversine(server_longitude, server_latitude, user_longitude, user_latitude) #distance between User and Server\n",
    "    dist_temp.append(np.round(a,3))\n",
    "\n",
    "  dij.append(dist_temp)\n"
   ]
  },
  {
   "cell_type": "code",
   "execution_count": 4,
   "metadata": {},
   "outputs": [],
   "source": [
    "# Users\n",
    "#U = list(range(0, 8))\n",
    "\n",
    "# Servers\n",
    "#S = list(range(0, 3))\n",
    "\n",
    "# D = [CPU, disk I/O,.....]\n",
    "D = np.zeros((4), dtype=int)\n",
    "\n",
    "w1 = [1, 2, 1, 2]\n",
    "w2 = [1, 2,\t1, 2]\n",
    "w3 = [5, 7,\t6, 6]\n",
    "w4 = [2, 3,\t3, 4]\n",
    "w5 = [5, 7,\t6, 6]\n",
    "w6 = [2, 3,\t3, 4]\n",
    "w7 = [1, 2, 1, 2]\n",
    "w8 = [2, 3,\t3, 4]\n",
    "W = [w1, w2, w3, w4, w5, w6, w7, w8]\n",
    "\n",
    "\n",
    "c1 = [4, 6, 6, 10]\n",
    "c2 = [10, 17, 15, 16]\n",
    "c3 = [10, 15, 11, 15]\n",
    "C = [c1, c2, c3]\n",
    "\n",
    "\n",
    "NORM = [LA.norm(w1), LA.norm(w2), LA.norm(w3), LA.norm(w4), LA.norm(w5), LA.norm(w6), LA.norm(w7), LA.norm(w8)]\n",
    "\n",
    "index = sorted(range(len(NORM)), key=lambda a: NORM[a])\n"
   ]
  },
  {
   "cell_type": "code",
   "execution_count": 5,
   "metadata": {},
   "outputs": [],
   "source": [
    "########## DECLARE THE MIP Solver ##########\n",
    "solver = pywraplp.Solver.CreateSolver('SCIP')"
   ]
  },
  {
   "cell_type": "code",
   "execution_count": 6,
   "metadata": {},
   "outputs": [
    {
     "name": "stdout",
     "output_type": "stream",
     "text": [
      "Number of variables = 27\n"
     ]
    }
   ],
   "source": [
    "########## DEFINE THE VARIABLES ##########\n",
    "# x_i,j = True if user u_j is allocated to edge server s_i\n",
    "# x_i,j = False otherwise\n",
    "x = {}\n",
    "for j in range(len(U)):\n",
    "    for i in range(len(S)):\n",
    "        x[i, j] = solver.BoolVar(f'c[{i}][{j}]')\n",
    "\n",
    "# y_i = True if edge server s_i is used to serve users\n",
    "# y_i = False otherwise\n",
    "y = {}\n",
    "for i in range(len(S)):\n",
    "    y[i] = solver.BoolVar(f'c[{i}]')\n",
    "\n",
    "print('Number of variables =', solver.NumVariables())"
   ]
  },
  {
   "cell_type": "code",
   "execution_count": 7,
   "metadata": {},
   "outputs": [
    {
     "name": "stdout",
     "output_type": "stream",
     "text": [
      "1 0   dij:  0.034 radius:   0.03\n",
      "2 1   dij:  0.057 radius:   0.03\n",
      "0 3   dij:  0.041 radius:   0.03\n",
      "2 3   dij:  0.064 radius:   0.03\n",
      "0 4   dij:  0.043 radius:   0.03\n",
      "2 4   dij:  0.044 radius:   0.03\n",
      "0 5   dij:  0.035 radius:   0.03\n",
      "0 6   dij:  0.057 radius:   0.03\n",
      "1 6   dij:  0.049 radius:   0.03\n",
      "0 7   dij:  0.039 radius:   0.03\n",
      "1 7   dij:  0.044 radius:   0.03\n",
      "Number of constraints = 31\n"
     ]
    }
   ],
   "source": [
    "########## DEFINE THE CONSTRAINTS ##########\n",
    "\n",
    "# For each server i\n",
    "# the sum of memory requirements of the users allocated to server i\n",
    "# does not exceed the memory capacity of i\n",
    "for i in range(len(S)):\n",
    "    for k in range(len(D)):\n",
    "        solver.Add(\n",
    "            solver.Sum([\n",
    "                x[i, j] * W[j][k] for j in range(len(U))\n",
    "            ]) <= C[i][k]*y[i]\n",
    "        )\n",
    "\n",
    "\n",
    "#Proximity constraint\n",
    "for j in range(len(U)):\n",
    "    for i in range(len(S)): \n",
    "        if dij[i][j]>= radius[i]:\n",
    "            solver.Add(x[i,j]==0)\n",
    "            \n",
    "# Each user can be allocated just once\n",
    "for j in range(len(U)):\n",
    "    solver.Add(\n",
    "        solver.Sum([x[i, j] for i in range(len(S))]) <= 1\n",
    "    )\n",
    "\n",
    "# Constraint: x, y [0,1] (Boolean Variables)\n",
    "# has already been included in the definition of the variables\n",
    "\n",
    "print('Number of constraints =', solver.NumConstraints())"
   ]
  },
  {
   "cell_type": "code",
   "execution_count": 8,
   "metadata": {},
   "outputs": [],
   "source": [
    "########## DEFINE THE OBJECTIVE ##########\n",
    "\n",
    "# Maximize the number of allocated users\n",
    "objective = solver.Objective()\n",
    "for j in range(len(U)):\n",
    "    for i in range(len(S)):\n",
    "        objective.SetCoefficient(x[i, j], 1)\n",
    "objective.SetMaximization()\n",
    "\n",
    "# Minimize the number of required edge servers\n",
    "#objectiveMin = solver.Objective()\n",
    "\n",
    "#for i in U:\n",
    " #   objectiveMin.SetCoefficient(y[i], 1)\n",
    "#objectiveMin.SetMinimization()"
   ]
  },
  {
   "cell_type": "code",
   "execution_count": 9,
   "metadata": {},
   "outputs": [
    {
     "name": "stdout",
     "output_type": "stream",
     "text": [
      "Solution:\n",
      "Objective value = 8.0\n",
      "User 0 has been allocated on node 0\n",
      "User 1 has been allocated on node 0\n",
      "User 2 has been allocated on node 2\n",
      "User 3 has been allocated on node 1\n",
      "User 4 has been allocated on node 1\n",
      "User 5 has been allocated on node 1\n",
      "User 6 has been allocated on node 2\n",
      "User 7 has been allocated on node 2\n"
     ]
    }
   ],
   "source": [
    "########## CALL THE SOLVER ##########\n",
    "status = solver.Solve()\n",
    "\n",
    "\n",
    "########### DISPLAY THE SOLUTION ##########\n",
    "if status == pywraplp.Solver.OPTIMAL:\n",
    "    print('Solution:')\n",
    "    print('Objective value =', solver.Objective().Value())\n",
    "    for j in range(len(U)):\n",
    "        for i in range(len(S)):\n",
    "            if int(x[i,j].solution_value()) == 1:\n",
    "                print(f'User {j} has been allocated on node {i}')\n",
    "else:\n",
    "    print('The problem does not have an optimal solution.')"
   ]
  }
 ],
 "metadata": {
  "kernelspec": {
   "display_name": "Python 3.8.2 64-bit",
   "language": "python",
   "name": "python3"
  },
  "language_info": {
   "codemirror_mode": {
    "name": "ipython",
    "version": 3
   },
   "file_extension": ".py",
   "mimetype": "text/x-python",
   "name": "python",
   "nbconvert_exporter": "python",
   "pygments_lexer": "ipython3",
   "version": "3.8.2"
  },
  "orig_nbformat": 4,
  "vscode": {
   "interpreter": {
    "hash": "570feb405e2e27c949193ac68f46852414290d515b0ba6e5d90d076ed2284471"
   }
  }
 },
 "nbformat": 4,
 "nbformat_minor": 2
}
