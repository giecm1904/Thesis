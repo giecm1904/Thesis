{
 "cells": [
  {
   "cell_type": "code",
   "execution_count": 1,
   "metadata": {},
   "outputs": [],
   "source": [
    "from ortools.linear_solver import pywraplp\n",
    "from ortools.init import pywrapinit"
   ]
  },
  {
   "cell_type": "code",
   "execution_count": 2,
   "metadata": {},
   "outputs": [],
   "source": [
    "#-----------------------------------VARIABLES-----------------------------------\n",
    "#Cloudlet h’s cores occupied loading an image at t.\n",
    "c1 = [1, 2, 3]\n",
    "c2 = [4,5,6]\n",
    "C=[c1,c2]\n",
    "\n",
    "\n",
    "\n",
    "T=[]  #Slotted time-slots set\n",
    "F=[]  #Set of functions\n",
    "G=[]  #Set of user groups defined by their point of attachment to the network\n",
    "Dg_ft=[] #Demand of group g for function f at time-slot t.\n",
    "H=[]  # Set of cloudlets\n",
    "Lgh=[] #RTT from user group g ∈ G to cloudlet h ∈ H\n",
    "Vh=[] #Set of containers at cloudlet h\n",
    "Ch =[] #Number of cores at cloudlet h\n",
    "dt =[] #Time-slot overhead of launching a function instance\n",
    "z_fvt=[] #Binary: indicates beginning of instantiation of function f as container v at time-slot t\n",
    "\n",
    "\n"
   ]
  },
  {
   "cell_type": "code",
   "execution_count": null,
   "metadata": {},
   "outputs": [],
   "source": [
    "########## DECLARE THE MIP Solver ##########\n",
    "solver = pywraplp.Solver.CreateSolver('SCIP')"
   ]
  },
  {
   "cell_type": "code",
   "execution_count": null,
   "metadata": {},
   "outputs": [],
   "source": [
    "#-----------------------------------VARIABLES-----------------------------------\n"
   ]
  },
  {
   "cell_type": "code",
   "execution_count": null,
   "metadata": {},
   "outputs": [],
   "source": [
    "#-----------------------------------CONSTRAINTS-----------------------------------\n",
    "\n",
    "#Cloudlet Management Model\n",
    "\n",
    "#(1) occupied cores upon time-slot t in loading a function image at cloudlet h\n",
    "for h in H:\n",
    "    for t in T:\n",
    "        solver.Add(\n",
    "            C[h][t]== solver.Sum(\n",
    "                solver.Sum(\n",
    "                    solver.Sum(\n",
    "                        z[f,v,i] for i in range(t-dt,t))\n",
    "                        for v in Vh)\n",
    "                        for f in F )\n",
    "        )\n"
   ]
  }
 ],
 "metadata": {
  "kernelspec": {
   "display_name": "Python 3.8.2 64-bit",
   "language": "python",
   "name": "python3"
  },
  "language_info": {
   "codemirror_mode": {
    "name": "ipython",
    "version": 3
   },
   "file_extension": ".py",
   "mimetype": "text/x-python",
   "name": "python",
   "nbconvert_exporter": "python",
   "pygments_lexer": "ipython3",
   "version": "3.8.2 (tags/v3.8.2:7b3ab59, Feb 25 2020, 23:03:10) [MSC v.1916 64 bit (AMD64)]"
  },
  "orig_nbformat": 4,
  "vscode": {
   "interpreter": {
    "hash": "570feb405e2e27c949193ac68f46852414290d515b0ba6e5d90d076ed2284471"
   }
  }
 },
 "nbformat": 4,
 "nbformat_minor": 2
}
