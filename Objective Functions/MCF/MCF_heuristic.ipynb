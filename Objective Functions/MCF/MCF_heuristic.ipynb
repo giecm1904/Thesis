{
 "cells": [
  {
   "cell_type": "code",
   "execution_count": 41,
   "metadata": {},
   "outputs": [],
   "source": [
    "import numpy as np\n",
    "from numpy import linalg as LA\n",
    "import pandas as pd\n",
    "from math import radians, cos, sin, asin, sqrt, isnan\n",
    "import random\n",
    "from ortools.sat.python import cp_model"
   ]
  },
  {
   "cell_type": "code",
   "execution_count": 42,
   "metadata": {},
   "outputs": [],
   "source": [
    "#-----------------------------------EXTRACT THE DATA-----------------------------------\n",
    "requests_path = '../eua-dataset/users/'\n",
    "U = pd.read_csv(requests_path + 'users-test.csv') # test with 8 users\n",
    "\n",
    "nodes_path = '../eua-dataset/edge-servers/'\n",
    "S = pd.read_csv(nodes_path + 'serverstest_v2.csv') # test with 3 servers\n"
   ]
  },
  {
   "cell_type": "code",
   "execution_count": 43,
   "metadata": {},
   "outputs": [],
   "source": [
    "#-----------------------------------VARIABLES-----------------------------------\n",
    "# All the requirements and capacities are randomly generated from a set of possibilites\n",
    "\n",
    "S_uj = [] # Set of individuals allocated to server s_i\n",
    "\n",
    "\n",
    "#W = np.array([[1, 2, 1, 2], [2, 3, 3, 4], [5, 7, 6, 6], [1, 2, 1, 2], [2, 3, 3, 4], [5, 7, 6, 6], [1, 2, 1, 2], [2, 3, 3, 4]])\n",
    "# NORM = []\n",
    "# for j in range(len(U)):\n",
    "#     norm = LA.norm(W[j])\n",
    "#     NORM.append(norm)\n",
    "W = [2,2,2,2,2,2,2,2]\n",
    "\n",
    "index = np.argsort(W) # Sort the users by their requirements\n",
    "\n",
    "# Each server has memory capacity C\n",
    "#C = np.array([[12,15,15,16],[10,17,15,16],[10,15,11,15]])\n",
    "C = [16,4,16]\n",
    "# NORM_C = []\n",
    "# for i in range(len(S)):\n",
    "#     norm_c = LA.norm(C[i])\n",
    "#     NORM_C.append(norm_c)\n",
    "\n",
    "index_C =np.argsort(C)\n",
    "index_C = index_C[::-1]\n"
   ]
  },
  {
   "cell_type": "code",
   "execution_count": 44,
   "metadata": {},
   "outputs": [],
   "source": [
    "#-----------------------------------HAVERSINE-----------------------------------\n",
    "def haversine(lon1, lat1, lon2, lat2):\n",
    "  \n",
    "    # Convert decimal degrees to radians \n",
    "    lon1, lat1, lon2, lat2 = map(radians, [lon1, lat1, lon2, lat2])\n",
    "\n",
    "    # Haversine formula \n",
    "    dlon = lon2 - lon1 \n",
    "    dlat = lat2 - lat1 \n",
    "    a = sin(dlat/2)**2 + cos(lat1) * cos(lat2) * sin(dlon/2)**2\n",
    "    c = 2 * asin(sqrt(a)) \n",
    "    r = 6371 # Radius of earth in kilometers. Use 3956 for miles\n",
    "    return c * r"
   ]
  },
  {
   "cell_type": "code",
   "execution_count": 45,
   "metadata": {},
   "outputs": [],
   "source": [
    "#-------------------------COVERAGE USER-SERVER--------------------------\n",
    "#radius = np.round(np.random.uniform(0.1,0.15,len(S)),3) # in km\n",
    "radius = np.full(len(S), 0.03)\n",
    "\n",
    "for i in range(len(S)):\n",
    "  server_latitude = S.iloc[i]['LATITUDE']\n",
    "  server_longitude = S.iloc[i]['LONGITUDE']\n",
    "  temp = []\n",
    "  for j in range(len(U)):\n",
    "    user_latitude = U.iloc[j]['Latitude']\n",
    "    user_longitude = U.iloc[j]['Longitude']\n",
    "\n",
    "    dist_geo = haversine(server_longitude, server_latitude, user_longitude, user_latitude)\n",
    "    \n",
    "    if dist_geo <= radius[i]:\n",
    "        temp.append(1)\n",
    "        \n",
    "    else:\n",
    "        temp.append(0)\n",
    "       \n",
    "  S_uj.append(temp)"
   ]
  },
  {
   "cell_type": "code",
   "execution_count": 46,
   "metadata": {},
   "outputs": [],
   "source": [
    "#-------------------------Decision variables--------------\n",
    "x_ij = np.zeros(shape=(len(S),len(U)))\n",
    "y_i = np.zeros(len(S))\n",
    "S_active = np.full(len(S),0)"
   ]
  },
  {
   "cell_type": "code",
   "execution_count": 47,
   "metadata": {},
   "outputs": [],
   "source": [
    "# user_index=0\n",
    "# while user_index in index:\n",
    "#     j= index[user_index]\n",
    "#     print(\"USER:  \",j)\n",
    "#     if all(S_active==0):\n",
    "#         print(\"---------NON ACTIVE----------------------\")\n",
    "#         for i in index_C:       \n",
    "#             if all(W[j]<C[i]) and S_uj[i][j]==1:\n",
    "#                 print(\"ENTRO j: \",j,\"i: \",i)\n",
    "#                 C[i]=C[i]-W[j]\n",
    "#                 S_active[i]=1\n",
    "#                 y_i[j]=1\n",
    "#                 x_ij[i][j]=1\n",
    "#                 user_index=user_index+1           \n",
    "#     elif any(S_active==1):\n",
    "#         print(\"---------AT LEAST ONE ACTIVE----------------------\")\n",
    "#         active_loc=np.where(S_active==1)[0][:]\n",
    "#         l=0\n",
    "#         for i in index_C:\n",
    "#             if all(W[j]<C[i]) and S_uj[i][j]==1 and (i in active_loc):\n",
    "#                 print(\"ENTRO j: \",i,\"i: \",j)\n",
    "#                 C[i]=C[i]-W[j]\n",
    "#                 y_i[i]=1\n",
    "#                 x_ij[i][j]=1\n",
    "#                 l=1\n",
    "#                 user_index=user_index+1 \n",
    "#         if l==0:\n",
    "#             for i in index_C:\n",
    "#                 if all(W[j]<C[i]) and S_uj[i][j]==1:\n",
    "#                     C[i]=C[i]-W[j]\n",
    "#                     S_active[i]=1\n",
    "#                     y_i[i]=1\n",
    "#                     x_ij[i][j]=1\n",
    "#                     user_index=user_index+1 \n",
    "#     user_index=user_index+1 "
   ]
  },
  {
   "cell_type": "code",
   "execution_count": 48,
   "metadata": {},
   "outputs": [
    {
     "name": "stdout",
     "output_type": "stream",
     "text": [
      "---------------------USER:   0  ----------------------------------\n",
      "ORDER INDEX C [2 0 1]\n",
      "---------NON ACTIVE---------\n",
      "i: 2\n",
      "ENTRO j:  0 i:  2\n",
      "Value C:  [16, 4, 14]\n",
      "---------------------USER:   1  ----------------------------------\n",
      "ORDER INDEX C [0 2 1]\n",
      "---------AT LEAST ONE ACTIVE---------\n",
      "possible servers:  [2]\n",
      "ACTIVATE NEW SERVER:  0 ENTRO j:  0 i:  1\n",
      "Value C:  [14, 4, 14]\n",
      "---------------------USER:   2  ----------------------------------\n",
      "ORDER INDEX C [2 0 1]\n",
      "---------AT LEAST ONE ACTIVE---------\n",
      "possible servers:  [0 2]\n",
      "ENTRO EXISTING SERVER: 2 ENTRO j:  0 i:  2\n",
      "Value C:  [14, 4, 12]\n",
      "---------------------USER:   3  ----------------------------------\n",
      "ORDER INDEX C [0 2 1]\n",
      "---------AT LEAST ONE ACTIVE---------\n",
      "possible servers:  [0 2]\n",
      "ACTIVATE NEW SERVER:  1 ENTRO j:  1 i:  3\n",
      "Value C:  [14, 2, 12]\n",
      "---------------------USER:   4  ----------------------------------\n",
      "ORDER INDEX C [0 2 1]\n",
      "---------AT LEAST ONE ACTIVE---------\n",
      "possible servers:  [0 1 2]\n",
      "ENTRO EXISTING SERVER: 1 ENTRO j:  1 i:  4\n",
      "Value C:  [14, 0, 12]\n",
      "---------------------USER:   5  ----------------------------------\n",
      "ORDER INDEX C [0 2 1]\n",
      "---------AT LEAST ONE ACTIVE---------\n",
      "possible servers:  [0 1 2]\n",
      "ENTRO EXISTING SERVER: 2 ENTRO j:  1 i:  5\n",
      "Value C:  [14, 0, 10]\n",
      "---------------------USER:   6  ----------------------------------\n",
      "ORDER INDEX C [0 2 1]\n",
      "---------AT LEAST ONE ACTIVE---------\n",
      "possible servers:  [0 1 2]\n",
      "ENTRO EXISTING SERVER: 2 ENTRO j:  1 i:  6\n",
      "Value C:  [14, 0, 8]\n",
      "---------------------USER:   7  ----------------------------------\n",
      "ORDER INDEX C [0 2 1]\n",
      "---------AT LEAST ONE ACTIVE---------\n",
      "possible servers:  [0 1 2]\n",
      "ENTRO EXISTING SERVER: 2 ENTRO j:  1 i:  7\n",
      "Value C:  [14, 0, 6]\n"
     ]
    }
   ],
   "source": [
    "user_index=0\n",
    "while user_index in index:\n",
    "    j= index[user_index]\n",
    "    index_C =np.argsort(C)\n",
    "    index_C = index_C[::-1]\n",
    "    loc =0\n",
    "    print(\"---------------------USER:  \",j,\" ----------------------------------\")\n",
    "    print(\"ORDER INDEX C\", index_C)\n",
    "    if all(S_active==0):\n",
    "        print(\"---------NON ACTIVE---------\")\n",
    "        for i in index_C:   \n",
    "            print(\"i:\",i)    \n",
    "            #if all(W[j]<C[i]) and S_uj[i][j]==1:\n",
    "            if W[j]<=C[i] and S_uj[i][j]==1:\n",
    "                \n",
    "                C[i]=C[i]-W[j]\n",
    "                S_active[i]=1\n",
    "                y_i[i]=1\n",
    "                x_ij[i][j]=1\n",
    "                print(\"ENTRO j: \",j,\"i: \",i)\n",
    "                print(\"Value C: \", C)\n",
    "                break\n",
    "    \n",
    "    elif any(S_active==1) and loc==0:\n",
    "        print(\"---------AT LEAST ONE ACTIVE---------\")\n",
    "        active_loc=np.where(S_active==1)[0][:]\n",
    "        print(\"possible servers: \", active_loc)\n",
    "        for i_act in index_C:\n",
    "            #if all(W[j]<C[i_act]) and S_uj[i_act][j]==1:\n",
    "            if W[j]<=C[i_act] and S_uj[i_act][j]==1 and (i_act in active_loc) and loc==0:\n",
    "                C[i_act]=C[i_act]-W[j]\n",
    "                y_i[i_act]=1\n",
    "                x_ij[i_act][j]=1\n",
    "                loc=1\n",
    "                print(\"ENTRO EXISTING SERVER:\",i_act,\"ENTRO j: \",i,\"i: \",j)\n",
    "                print(\"Value C: \", C)\n",
    "                break\n",
    "        for i in index_C:\n",
    "            #if all(W[j]<C[i]) and S_uj[i][j]==1 and (i not in active_loc):\n",
    "            if W[j]<=C[i] and S_uj[i][j]==1 and (i not in active_loc) and loc==0:\n",
    "                C[i]=C[i]-W[j]\n",
    "                S_active[i]=1\n",
    "                y_i[i]=1\n",
    "                x_ij[i][j]=1\n",
    "                loc=1\n",
    "                print(\"ACTIVATE NEW SERVER: \",i,\"ENTRO j: \",i,\"i: \",j)\n",
    "                print(\"Value C: \",C)\n",
    "                break\n",
    "    user_index=user_index+1 "
   ]
  },
  {
   "cell_type": "code",
   "execution_count": 49,
   "metadata": {},
   "outputs": [
    {
     "data": {
      "text/plain": [
       "True"
      ]
     },
     "execution_count": 49,
     "metadata": {},
     "output_type": "execute_result"
    }
   ],
   "source": [
    "W[0]<C[0]"
   ]
  },
  {
   "cell_type": "code",
   "execution_count": 50,
   "metadata": {},
   "outputs": [
    {
     "name": "stdout",
     "output_type": "stream",
     "text": [
      "2\n",
      "10\n",
      "5\n"
     ]
    }
   ],
   "source": [
    "p=[2,10,5]\n",
    "for i in p:\n",
    "    print(i)"
   ]
  }
 ],
 "metadata": {
  "kernelspec": {
   "display_name": "Python 3",
   "language": "python",
   "name": "python3"
  },
  "language_info": {
   "codemirror_mode": {
    "name": "ipython",
    "version": 3
   },
   "file_extension": ".py",
   "mimetype": "text/x-python",
   "name": "python",
   "nbconvert_exporter": "python",
   "pygments_lexer": "ipython3",
   "version": "3.8.2"
  },
  "orig_nbformat": 4
 },
 "nbformat": 4,
 "nbformat_minor": 2
}
