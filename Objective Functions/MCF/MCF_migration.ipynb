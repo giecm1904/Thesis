{
 "cells": [
  {
   "cell_type": "code",
   "execution_count": 1,
   "metadata": {},
   "outputs": [],
   "source": [
    "import numpy as np\n",
    "from numpy import linalg as LA\n",
    "import pandas as pd\n",
    "from math import radians, cos, sin, asin, sqrt\n",
    "import random\n",
    "from ortools.sat.python import cp_model\n",
    "import time\n",
    "import locust"
   ]
  },
  {
   "cell_type": "code",
   "execution_count": 2,
   "metadata": {},
   "outputs": [],
   "source": [
    "#-----------------------------------EXTRACT THE DATA-----------------------------------\n",
    "#start_time = time.time()\n",
    "\n",
    "# users-melbcbd-generated.csv contains:\n",
    "# •  Latitude-Longitude\n",
    "# of the users in the Melbourne CBD area.\n",
    "requests_path = '..\\\\eua-dataset\\\\users\\\\'\n",
    "R = pd.read_csv(requests_path + 'users-test.csv') # test with 8 users\n",
    "#R = pd.read_csv(requests_path + 'users-test-more-users.csv') # test with 14 users\n",
    "#R = pd.read_csv(requests_path + 'users-melbcbd-generated.csv') # test with 816 users\n",
    "\n",
    "# site-optus-melbCBD.csv contains:\n",
    "# •  SiteID-Latitude-Longitude-Name-State-LicensingAreaID-PostCode-SitePrecision-Elevation-HCISL2\n",
    "# of all Optus BS in Melbourne CBD area (edge-servers)\n",
    "nodes_path = '..\\\\eua-dataset\\\\edge-servers\\\\'\n",
    "#N = pd.read_csv(nodes_path + 'serverstest.csv') # test with 3 servers\n",
    "N_src = pd.read_csv(nodes_path + 'serverstest.csv') # test with 3 servers\n",
    "N_dest = pd.read_csv(nodes_path + 'serverstest.csv') # test with 3 servers\n",
    "#N = pd.read_csv(nodes_path + 'serverstest-more-servers.csv') # test with 6 servers\n",
    "#N = pd.read_csv(nodes_path + 'site-optus-melbCBD.csv') # test with 125 servers"
   ]
  },
  {
   "cell_type": "code",
   "execution_count": 3,
   "metadata": {},
   "outputs": [],
   "source": [
    "#-----------------------------------INPUTS-----------------------------------\n",
    "# Memory of function: m_f\n",
    "m1 = 1\n",
    "m2 = 2\n",
    "m3 = 3\n",
    "m4=4\n",
    "m_f = [m1,m2,m3,m4]\n",
    "\n",
    "#function assigned to each request\n",
    "m_request = []\n",
    "\"\"\" for j in range(len(R)):\n",
    "  m = random.choice([m1, m2, m3,m4])\n",
    "  m_request.append(m) \"\"\"\n",
    "m_request= [m1,m2,m3,m4,m1,m2,m3,m4]\n",
    "#m_request= [m1,m2,m3,m4,m1,m2,m3,m4,m1,m2,m3,m4,m1,m2]\n",
    "index = sorted(range(len(m_request)), key=lambda a: m_request[a]) # Sort the requests by their requirements\n",
    "\n",
    "#shows which requests are assigned to each function\n",
    "req_distr=np.zeros([len(m_f),len(R)])\n",
    "for m in range(len(m_f)):\n",
    "  for r in range(len(R)):\n",
    "    if m_request[r]==m_f[m]:\n",
    "      req_distr[m][r]=1\n",
    "    else:\n",
    "      req_distr[m][r]=0  \n",
    "\n",
    "#Maximum allowed network delay for function f:  phi_f\n",
    "phi_f=[]\n"
   ]
  },
  {
   "cell_type": "code",
   "execution_count": 4,
   "metadata": {},
   "outputs": [],
   "source": [
    "#-----------------------------------INFRASTRUCTURED DATA-----------------------------------\n",
    "\n",
    "#Memory availably in node j: M_j\n",
    "M_j = [20,21,22]\n",
    "\n",
    "#Cores on node j: U_j\n",
    "U_j=[25,26,27]"
   ]
  },
  {
   "cell_type": "code",
   "execution_count": 5,
   "metadata": {},
   "outputs": [],
   "source": [
    "#-----------------------------------MONITORED DATA-----------------------------------\n",
    "#Network delay between nodes i and j\n",
    "delta_ij = []\n",
    "\n",
    "#Incoming requests to node i\n",
    "lambda_ri = [[1,1,1,1,1,1,1,1],[1,1,1,1,1,1,1,1],[1,1,1,1,1,1,1,1]]\n",
    "#lambda_fi =[[2,2,2,2,2,2,2,2],[2,2,2,2,2,2,2,2],[2,2,2,2,2,2,2,2]]\n",
    "\n",
    "#Cores used by node j per single request: u_rj\n",
    "u_rj = [[2,2,2,2,2,2,2,2],[2,2,2,2,2,2,2,2],[2,2,2,2,2,2,2,2]]"
   ]
  },
  {
   "cell_type": "code",
   "execution_count": 6,
   "metadata": {},
   "outputs": [],
   "source": [
    "#-----------------------------------VARIABLES-----------------------------------\n",
    "\n",
    "U_ni = [] # Set of requests conected to node n\n",
    "\n",
    "#establish which containers (function instances) are allocated to each node (????????????)\n",
    "container_loc = [[1,0,1,0],[0,1,0,1],[1,0,0,1]]\n",
    "\n",
    "#Groups requests by functions\n",
    "F_r=[]\n",
    "for row in range(len(req_distr)):\n",
    "    temp_F=[]\n",
    "    for column in range(len(R)):\n",
    "        if req_distr[row][column]==1:\n",
    "            temp_F.append(column)\n",
    "    F_r.append(temp_F)"
   ]
  },
  {
   "cell_type": "code",
   "execution_count": 7,
   "metadata": {},
   "outputs": [],
   "source": [
    "#-----------------------------------HAVERSINE-----------------------------------\n",
    "\n",
    "def haversine(lon1, lat1, lon2, lat2):\n",
    "  \n",
    "    # Convert decimal degrees to radians \n",
    "    lon1, lat1, lon2, lat2 = map(radians, [lon1, lat1, lon2, lat2])\n",
    "\n",
    "    # Haversine formula \n",
    "    dlon = lon2 - lon1 \n",
    "    dlat = lat2 - lat1 \n",
    "    a = sin(dlat/2)**2 + cos(lat1) * cos(lat2) * sin(dlon/2)**2\n",
    "    c = 2 * asin(sqrt(a)) \n",
    "    r = 6371 # Radius of earth in kilometers. Use 3956 for miles\n",
    "    return c * r"
   ]
  },
  {
   "cell_type": "code",
   "execution_count": 8,
   "metadata": {},
   "outputs": [],
   "source": [
    "#-----------------------------------COVERAGE REQUEST-NODE-----------------------------------\n",
    "\n",
    "#radius = np.round(np.random.uniform(0.1,0.15,len(S)),3) # in km\n",
    "radius = np.full(len(N_src), 0.03)\n",
    "\n",
    "for i in range(len(N_src)):\n",
    "  node_latitude = N_src.iloc[i]['LATITUDE']\n",
    "  node_longitude = N_src.iloc[i]['LONGITUDE']\n",
    "  temp = []\n",
    "  for r in range(len(R)):\n",
    "    request_latitude = R.iloc[r]['Latitude']\n",
    "    request_longitude = R.iloc[r]['Longitude']\n",
    "\n",
    "    dist_geo = haversine(node_longitude, node_latitude, request_longitude, request_latitude)\n",
    "    \n",
    "    if dist_geo <= radius[i]:\n",
    "        temp.append(1)\n",
    "        \n",
    "    else:\n",
    "        temp.append(0)\n",
    "       \n",
    "  U_ni.append(temp)\n"
   ]
  },
  {
   "cell_type": "code",
   "execution_count": 9,
   "metadata": {},
   "outputs": [],
   "source": [
    "#---------------------------------DISTANCE BETWEEN NODES---------------------------------\n",
    "\n",
    "#radius = np.round(np.random.uniform(0.1,0.15,len(S)),3) # in km\n",
    "radius = np.full(len(N_src), 0.03)\n",
    "\n",
    "for i in range(len(N_src)):\n",
    "  node1_latitude = N_src.iloc[i]['LATITUDE']\n",
    "  node1_longitude = N_src.iloc[i]['LONGITUDE']\n",
    "  temp_dist = []\n",
    "  for j in range(len(N_dest)):\n",
    "    node2_latitude = N_dest.iloc[j]['LATITUDE']\n",
    "    node2_longitude = N_dest.iloc[j]['LONGITUDE']\n",
    "\n",
    "    dist_geo_nodes = haversine(node1_longitude, node1_latitude, node2_longitude,node2_latitude)\n",
    "    #print(dist_geo)\n",
    "    #print(radius[i]+radius[j])\n",
    "    temp_dist.append(np.round(dist_geo_nodes,3))\n",
    "       \n",
    "  delta_ij.append(temp_dist)\n",
    "\n",
    "for r1 in range(len(N_src)):\n",
    "  temp_delay = []\n",
    "  for r2 in range(len(N_dest)):\n",
    "    if r1==r2:\n",
    "      temp_delay.append(0)\n",
    "    else:\n",
    "      temp_delay.append(radius[r1]+radius[r2])\n",
    "  phi_f.append(temp_delay)\n",
    "    "
   ]
  },
  {
   "cell_type": "code",
   "execution_count": 10,
   "metadata": {},
   "outputs": [
    {
     "name": "stdout",
     "output_type": "stream",
     "text": [
      "satisfaction model '':\n",
      "#Variables: 39\n",
      "  - 39 Booleans in [0,1]\n",
      "\n"
     ]
    }
   ],
   "source": [
    "#---------------------------------- CP MODEL ----------------------------------\n",
    "model = cp_model.CpModel()\n",
    "\n",
    "#-----------------------------------SOLVER VARIABLES-----------------------------------\n",
    "\n",
    "# x_j,r = True if request r is allocated to node j\n",
    "x = {}\n",
    "for r in index:\n",
    "    for j in range(len(N_dest)):\n",
    "        x[j, r] = model.NewBoolVar(f'c[{j}][{r}]')\n",
    "\n",
    "# c_f,j = True if container f (fa,fb,fc) is deployed on node j\n",
    "c = {}\n",
    "for f in range(len(F_r)):\n",
    "    for j in range(len(N_dest)):\n",
    "        c[f, j] = model.NewBoolVar(f'c[{f}][{j}]')\n",
    "\n",
    "# y_j = True if node j is used\n",
    "# y_j = False otherwise\n",
    "y = {}\n",
    "for j in range(len(N_dest)):\n",
    "    y[j] = model.NewBoolVar(f'c[{j}]')\n",
    "\n",
    "print(model.ModelStats())"
   ]
  },
  {
   "cell_type": "code",
   "execution_count": 11,
   "metadata": {},
   "outputs": [
    {
     "name": "stdout",
     "output_type": "stream",
     "text": [
      "satisfaction model '':\n",
      "#Variables: 39\n",
      "  - 39 Booleans in [0,1]\n",
      "#kLinear1: 11\n",
      "#kLinear3: 8\n",
      "#kLinearN: 6 (#terms: 39)\n"
     ]
    }
   ],
   "source": [
    "#-----------------------------------CONSTRAINTS-----------------------------------\n",
    "\n",
    "# Proximity constraint (request-node) *******OJOOOOOO*******\n",
    "for r in index:\n",
    "    for i in range(len(N_src)):\n",
    "        if U_ni[i][r] == 0:\n",
    "            model.Add(\n",
    "             x[j, f]==0 #no manejamos j loop\n",
    "            )\n",
    "\n",
    "#Proximity constraint (node i-node j)\n",
    "for i in range(len(N_src)):\n",
    "    for j in range(len(N_dest)):\n",
    "        if delta_ij[i][j]> phi_f[i][j]:\n",
    "            model.Add(\n",
    "             x[j, r]==0\n",
    "            )\n",
    "\n",
    "#Container deployment: True if container of function f is deployed on node j (??????????????? x se maneja con i o j)\n",
    "\"\"\" for r in index:\n",
    "    for f in range(len(F_r)):\n",
    "        for j in range(len(N_dest)):\n",
    "            model.Add(sum([x[i,r] for i in range(len(N_src))])<= c[f,j]) \"\"\"\n",
    "\n",
    "\n",
    "# Capacity constraint (memory)\n",
    "for j in range(len(N_dest)):\n",
    "        model.Add(\n",
    "            sum([\n",
    "                m_f[f] * c[f,j] for f in range(len(F_r))\n",
    "            ]) <= M_j[j]*y[j]\n",
    "        )\n",
    "\n",
    "# Avoid resource contention\n",
    "for j in range(len(N_dest)):\n",
    "    model.Add(\n",
    "            sum([\n",
    "                sum([x[j,r]*lambda_ri[i][r]*u_rj[j][r] for r in index]) \n",
    "            for i in range(len(N_src))\n",
    "            ]) <= U_j[j]\n",
    "        )  \n",
    "\n",
    "\n",
    "# Contraint family (each user can be allocated just once)\n",
    "for r in index:\n",
    "    model.Add(\n",
    "        sum([\n",
    "            x[j, r] for j in range(len(N_dest))\n",
    "        ]) <= 1\n",
    "    ) \n",
    "\n",
    "print(model.ModelStats())"
   ]
  },
  {
   "cell_type": "code",
   "execution_count": 12,
   "metadata": {},
   "outputs": [],
   "source": [
    "# Declare our intermediate boolean variable.\n",
    "b = model.NewBoolVar('b')\n",
    "\n",
    "for r in index:\n",
    "    for f in range(len(F_r)):\n",
    "        \n",
    "        model.Add(sum([x[j,r] for j in range(len(N_dest))])>0).OnlyEnforceIf(b)\n",
    "        model.Add(sum([x[j,r] for j in range(len(N_dest))])==0).OnlyEnforceIf(b.Not())\n",
    "\n",
    "        model.Add(c[f,j]==1).OnlyEnforceIf(b)\n",
    "        model.Add(c[f,j]==0).OnlyEnforceIf(b.Not())"
   ]
  },
  {
   "cell_type": "code",
   "execution_count": 13,
   "metadata": {},
   "outputs": [
    {
     "name": "stdout",
     "output_type": "stream",
     "text": [
      "optimization model '':\n",
      "#Variables: 40 (#bools:3 in objective)\n",
      "  - 40 Booleans in [0,1]\n",
      "#kLinear1: 75 (#enforced: 64)\n",
      "#kLinear3: 72 (#enforced: 64)\n",
      "#kLinearN: 7 (#terms: 63)\n"
     ]
    }
   ],
   "source": [
    "#---------------------------------- CP SOLVER ----------------------------------\n",
    "solver = cp_model.CpSolver()\n",
    "\n",
    "#---------------------------------- OBJECTIVE FUNCTIONS ---------------------------------\n",
    "\n",
    "# Maximize the number of allocated requests\n",
    "objective_max = []\n",
    "for r in index:\n",
    "    for j in range(len(N_dest)):\n",
    "        objective_max.append(x[j, r])\n",
    "model.Maximize(sum(objective_max))\n",
    "\n",
    "solver.Solve(model)\n",
    "max_requests = solver.ObjectiveValue()\n",
    "\n",
    "# Hint (speed up solving)\n",
    "for r in index:\n",
    "    for j in range(len(N_dest)):\n",
    "        model.AddHint(x[j,r], solver.Value(x[j,r]))\n",
    "\n",
    "for j in range(len(N_dest)):\n",
    "    model.AddHint(y[j], solver.Value(y[j]))\n",
    "        \n",
    "# Constraint previous objective\n",
    "model.Add(\n",
    "    sum([\n",
    "        x[j, r] for j in range(len(N_dest)) for r in index\n",
    "    ]) == round(solver.ObjectiveValue())\n",
    ")\n",
    "\n",
    "# Minimize the number of nodes used\n",
    "objective_min = []\n",
    "for j in range(len(N_dest)):\n",
    "    objective_min.append(y[j])\n",
    "model.Minimize(sum(objective_min))\n",
    "\n",
    "print(model.ModelStats())"
   ]
  },
  {
   "cell_type": "code",
   "execution_count": 14,
   "metadata": {},
   "outputs": [
    {
     "name": "stdout",
     "output_type": "stream",
     "text": [
      "Solution:\n",
      "Objective value: 8.0 requests have been allocated to 1.0 nodes\n",
      "\n",
      "Request 0 has been allocated on node 0\n",
      "Request 4 has been allocated on node 1\n",
      "Request 1 has been allocated on node 1\n",
      "Request 5 has been allocated on node 2\n",
      "Request 2 has been allocated on node 0\n",
      "Request 6 has been allocated on node 2\n",
      "Request 3 has been allocated on node 1\n",
      "Request 7 has been allocated on node 2\n"
     ]
    }
   ],
   "source": [
    "#-----------------------------------CALL THE SOLVER-----------------------------------\n",
    "status = solver.Solve(model)\n",
    "\n",
    "#-----------------------------------DISPLAY THE SOLUTION-----------------------------------\n",
    "\n",
    "if status == cp_model.OPTIMAL or status == cp_model.FEASIBLE:\n",
    "    print('Solution:')\n",
    "    print(f'Objective value: {max_requests} requests have been allocated to {solver.ObjectiveValue()} nodes\\n')\n",
    "    for r in index:\n",
    "        for j in range(len(N_dest)):\n",
    "            if int(solver.Value(x[j,r])) == 1:\n",
    "                print(f'Request {r} has been allocated on node {j}')\n",
    "else:\n",
    "    print('The problem does not have an optimal solution.')\n",
    "\n",
    "#print(\"\\n--- Run time: %s seconds ---\" % round((time.time() - start_time),2))"
   ]
  },
  {
   "cell_type": "code",
   "execution_count": 15,
   "metadata": {},
   "outputs": [],
   "source": [
    "from locust import HttpUser, task\n",
    "\n",
    "class HelloWorldUser(HttpUser):\n",
    "    @task\n",
    "    def hello_world(self):\n",
    "        self.client.get(\"/hello\")\n",
    "        self.client.get(\"/world\")\n",
    "\n"
   ]
  }
 ],
 "metadata": {
  "kernelspec": {
   "display_name": "Python 3",
   "language": "python",
   "name": "python3"
  },
  "language_info": {
   "codemirror_mode": {
    "name": "ipython",
    "version": 3
   },
   "file_extension": ".py",
   "mimetype": "text/x-python",
   "name": "python",
   "nbconvert_exporter": "python",
   "pygments_lexer": "ipython3",
   "version": "3.8.2"
  },
  "orig_nbformat": 4,
  "vscode": {
   "interpreter": {
    "hash": "570feb405e2e27c949193ac68f46852414290d515b0ba6e5d90d076ed2284471"
   }
  }
 },
 "nbformat": 4,
 "nbformat_minor": 2
}
