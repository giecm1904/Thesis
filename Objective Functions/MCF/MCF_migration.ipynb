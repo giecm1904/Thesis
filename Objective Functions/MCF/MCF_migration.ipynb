{
 "cells": [
  {
   "cell_type": "code",
   "execution_count": 110,
   "metadata": {},
   "outputs": [],
   "source": [
    "import numpy as np\n",
    "from numpy import linalg as LA\n",
    "import pandas as pd\n",
    "from math import radians, cos, sin, asin, sqrt\n",
    "import random\n",
    "from ortools.sat.python import cp_model\n",
    "import time"
   ]
  },
  {
   "cell_type": "code",
   "execution_count": 111,
   "metadata": {},
   "outputs": [],
   "source": [
    "#-----------------------------------EXTRACT THE DATA-----------------------------------\n",
    "#start_time = time.time()\n",
    "\n",
    "# users-melbcbd-generated.csv contains:\n",
    "# •  Latitude-Longitude\n",
    "# of the users in the Melbourne CBD area.\n",
    "requests_path = '..\\\\eua-dataset\\\\users\\\\'\n",
    "R = pd.read_csv(requests_path + 'users-test.csv') # test with 8 users\n",
    "#R = pd.read_csv(requests_path + 'users-test-more-users.csv') # test with 14 users\n",
    "#R = pd.read_csv(requests_path + 'users-melbcbd-generated.csv') # test with 816 users\n",
    "\n",
    "# site-optus-melbCBD.csv contains:\n",
    "# •  SiteID-Latitude-Longitude-Name-State-LicensingAreaID-PostCode-SitePrecision-Elevation-HCISL2\n",
    "# of all Optus BS in Melbourne CBD area (edge-servers)\n",
    "nodes_path = '..\\\\eua-dataset\\\\edge-servers\\\\'\n",
    "N = pd.read_csv(nodes_path + 'serverstest.csv') # test with 3 servers\n",
    "#N = pd.read_csv(nodes_path + 'serverstest-more-servers.csv') # test with 6 servers\n",
    "#N = pd.read_csv(nodes_path + 'site-optus-melbCBD.csv') # test with 125 servers"
   ]
  },
  {
   "cell_type": "code",
   "execution_count": 112,
   "metadata": {},
   "outputs": [],
   "source": [
    "#-----------------------------------INPUTS-----------------------------------\n",
    "# Memory of function: m_f\n",
    "m1 = 1\n",
    "m2 = 2\n",
    "m3 = 3\n",
    "m4=4\n",
    "m_f = [m1,m2,m3,m4]\n",
    "\n",
    "#function assigned to each request\n",
    "m_request = []\n",
    "\"\"\" for j in range(len(R)):\n",
    "  m = random.choice([m1, m2, m3,m4])\n",
    "  m_request.append(m) \"\"\"\n",
    "m_request= [m1,m2,m3,m4,m1,m2,m3,m4]\n",
    "#m_request= [m1,m2,m3,m4,m1,m2,m3,m4,m1,m2,m3,m4,m1,m2]\n",
    "index = sorted(range(len(m_request)), key=lambda a: m_request[a]) # Sort the users by their requirements\n",
    "\n",
    "#shows which function is assigned to each user\n",
    "F=np.zeros([len(m_f),len(R)])\n",
    "for m in range(len(m_f)):\n",
    "  for r in range(len(R)):\n",
    "    if m_request[r]==m_f[m]:\n",
    "      F[m][r]=1\n",
    "    else:\n",
    "      F[m][r]=0  \n",
    "\n",
    "#Maximum allowed network delay for function f:  phi_f\n",
    "phi_f=[]\n"
   ]
  },
  {
   "cell_type": "code",
   "execution_count": 113,
   "metadata": {},
   "outputs": [],
   "source": [
    "#-----------------------------------INFRASTRUCTURED DATA-----------------------------------\n",
    "\n",
    "#Memory availably in node j: M_j\n",
    "M_j = [20,21,22]\n",
    "\n",
    "#Cores on node j: U_j\n",
    "U_j=[25,26,27]"
   ]
  },
  {
   "cell_type": "code",
   "execution_count": 114,
   "metadata": {},
   "outputs": [],
   "source": [
    "#-----------------------------------MONITORED DATA-----------------------------------\n",
    "#Network delay between nodes i and j\n",
    "delta_ij = []\n",
    "\n",
    "#Incoming f requests to node i\n",
    "lambda_fi = [[1,1,1,1,1,1,1,1],[1,1,1,1,1,1,1,1],[1,1,1,1,1,1,1,1]]\n",
    "#lambda_fi =[[2,2,2,2,2,2,2,2],[2,2,2,2,2,2,2,2],[2,2,2,2,2,2,2,2]]\n",
    "#Cores used by node j per single f request: u_fj\n",
    "u_fj = [[2,2,2,2,2,2,2,2],[2,2,2,2,2,2,2,2],[2,2,2,2,2,2,2,2]]"
   ]
  },
  {
   "cell_type": "code",
   "execution_count": 115,
   "metadata": {},
   "outputs": [],
   "source": [
    "#-----------------------------------VARIABLES-----------------------------------\n",
    "\n",
    "U_si = [] # Set of individuals allocated to server s_i\n",
    "\n",
    "#establish which containers (function instances) are allocated to each node (????????????)\n",
    "container_loc = [[1,0,1,0],[0,1,0,1],[1,0,0,1]]\n",
    "\n",
    "#Groups requests by functions\n",
    "G=[]\n",
    "for row in range(len(F)):\n",
    "    temp_G=[]\n",
    "    for column in range(len(R)):\n",
    "        if F[row][column]==1:\n",
    "            temp_G.append(column)\n",
    "    G.append(temp_G)"
   ]
  },
  {
   "cell_type": "code",
   "execution_count": 116,
   "metadata": {},
   "outputs": [],
   "source": [
    "#-----------------------------------HAVERSINE-----------------------------------\n",
    "\n",
    "def haversine(lon1, lat1, lon2, lat2):\n",
    "  \n",
    "    # Convert decimal degrees to radians \n",
    "    lon1, lat1, lon2, lat2 = map(radians, [lon1, lat1, lon2, lat2])\n",
    "\n",
    "    # Haversine formula \n",
    "    dlon = lon2 - lon1 \n",
    "    dlat = lat2 - lat1 \n",
    "    a = sin(dlat/2)**2 + cos(lat1) * cos(lat2) * sin(dlon/2)**2\n",
    "    c = 2 * asin(sqrt(a)) \n",
    "    r = 6371 # Radius of earth in kilometers. Use 3956 for miles\n",
    "    return c * r"
   ]
  },
  {
   "cell_type": "code",
   "execution_count": 117,
   "metadata": {},
   "outputs": [],
   "source": [
    "#-----------------------------------COVERAGE REQUEST-NODE-----------------------------------\n",
    "\n",
    "#radius = np.round(np.random.uniform(0.1,0.15,len(S)),3) # in km\n",
    "radius = np.full(len(N), 0.03)\n",
    "\n",
    "for j in range(len(N)):\n",
    "  server_latitude = N.iloc[j]['LATITUDE']\n",
    "  server_longitude = N.iloc[j]['LONGITUDE']\n",
    "  temp = []\n",
    "  for r in range(len(R)):\n",
    "    user_latitude = R.iloc[r]['Latitude']\n",
    "    user_longitude = R.iloc[r]['Longitude']\n",
    "\n",
    "    dist_geo = haversine(server_longitude, server_latitude, user_longitude, user_latitude)\n",
    "    \n",
    "    if dist_geo <= radius[j]:\n",
    "        temp.append(1)\n",
    "        \n",
    "    else:\n",
    "        temp.append(0)\n",
    "       \n",
    "  U_si.append(temp)\n"
   ]
  },
  {
   "cell_type": "code",
   "execution_count": 118,
   "metadata": {},
   "outputs": [],
   "source": [
    "#---------------------------------DISTANCE BETWEEN NODES---------------------------------\n",
    "\n",
    "#radius = np.round(np.random.uniform(0.1,0.15,len(S)),3) # in km\n",
    "radius = np.full(len(N), 0.03)\n",
    "\n",
    "for i in range(len(N)):\n",
    "  server1_latitude = N.iloc[i]['LATITUDE']\n",
    "  server1_longitude = N.iloc[i]['LONGITUDE']\n",
    "  temp_dist = []\n",
    "  for j in range(len(N)):\n",
    "    server2_latitude = N.iloc[j]['LATITUDE']\n",
    "    server2_longitude = N.iloc[j]['LONGITUDE']\n",
    "\n",
    "    dist_geo_servers = haversine(server1_longitude, server1_latitude, server2_longitude,server2_latitude)\n",
    "    #print(dist_geo)\n",
    "    #print(radius[i]+radius[j])\n",
    "    temp_dist.append(np.round(dist_geo_servers,3))\n",
    "       \n",
    "  delta_ij.append(temp_dist)\n",
    "\n",
    "for r1 in range(len(N)):\n",
    "  temp_delay = []\n",
    "  for r2 in range(len(N)):\n",
    "    if r1==r2:\n",
    "      temp_delay.append(0)\n",
    "    else:\n",
    "      temp_delay.append(radius[r1]+radius[r2])\n",
    "  phi_f.append(temp_delay)\n",
    "    "
   ]
  },
  {
   "cell_type": "code",
   "execution_count": 119,
   "metadata": {},
   "outputs": [
    {
     "name": "stdout",
     "output_type": "stream",
     "text": [
      "satisfaction model '':\n",
      "#Variables: 39\n",
      "  - 39 Booleans in [0,1]\n",
      "\n"
     ]
    }
   ],
   "source": [
    "#---------------------------------- CP MODEL ----------------------------------\n",
    "model = cp_model.CpModel()\n",
    "\n",
    "#-----------------------------------SOLVER VARIABLES-----------------------------------\n",
    "\n",
    "# x_i,f = True if request f is allocated to node i\n",
    "x = {}\n",
    "for f in index:\n",
    "    for j in range(len(N)):\n",
    "        x[j, f] = model.NewBoolVar(f'c[{j}][{f}]')\n",
    "\n",
    "# c_f,j = True if container of a group g (fa,fb,fc) is deployed on node j\n",
    "c = {}\n",
    "for g in range(len(G)):\n",
    "    for j in range(len(N)):\n",
    "        c[g, j] = model.NewBoolVar(f'c[{g}][{j}]')\n",
    "\n",
    "# y_i = True if node j is used\n",
    "# y_i = False otherwise\n",
    "y = {}\n",
    "for j in range(len(N)):\n",
    "    y[j] = model.NewBoolVar(f'c[{j}]')\n",
    "\n",
    "print(model.ModelStats())"
   ]
  },
  {
   "cell_type": "code",
   "execution_count": 120,
   "metadata": {},
   "outputs": [
    {
     "name": "stdout",
     "output_type": "stream",
     "text": [
      "satisfaction model '':\n",
      "#Variables: 39\n",
      "  - 39 Booleans in [0,1]\n",
      "#kLinear1: 11\n",
      "#kLinear3: 8\n",
      "#kLinearN: 102 (#terms: 423)\n"
     ]
    }
   ],
   "source": [
    "#-----------------------------------CONSTRAINTS-----------------------------------\n",
    "\n",
    "# Proximity constraint (request-node)\n",
    "for f in index:\n",
    "    for j in range(len(N)):\n",
    "        if U_si[j][f] == 0:\n",
    "            model.Add(\n",
    "             x[j, f]==0\n",
    "            )\n",
    "\n",
    "#Proximity constraint (node i-node j)\n",
    "for i in range(len(N)):\n",
    "    for j in range(len(N)):\n",
    "        if delta_ij[i][j]> phi_f[i][j]:\n",
    "            model.Add(\n",
    "             x[j, f]==0\n",
    "            )\n",
    "\n",
    "#Container deployment: True if container of function f is deployed on node j (??????????????? x se maneja con i o j)\n",
    "for f in index:\n",
    "    for g in range(len(G)):\n",
    "        for j in range(len(N)):\n",
    "            model.Add(sum([x[i,f] for i in range(len(N))])<= c[g,j])\n",
    "\n",
    "# Capacity constraint (memory)\n",
    "for j in range(len(N)):\n",
    "        model.Add(\n",
    "            sum([\n",
    "                m_f[g] * c[g,j] for g in range(len(G))\n",
    "            ]) <= M_j[j]*y[j]\n",
    "        )\n",
    "\n",
    "# Avoid resource contention\n",
    "for j in range(len(N)):\n",
    "    model.Add(\n",
    "            sum([\n",
    "                sum([x[j,f]*lambda_fi[i][f]*u_fj[j][f] for f in index]) \n",
    "            for i in range(len(N))\n",
    "            ]) <= U_j[j]\n",
    "        )  \n",
    "\n",
    "\n",
    "# Contraint family (each user can be allocated just once)\n",
    "for f in index:\n",
    "    model.Add(\n",
    "        sum([\n",
    "            x[j, f] for j in range(len(N))\n",
    "        ]) <= 1\n",
    "    ) \n",
    "\n",
    "print(model.ModelStats())"
   ]
  },
  {
   "cell_type": "code",
   "execution_count": 121,
   "metadata": {},
   "outputs": [
    {
     "name": "stdout",
     "output_type": "stream",
     "text": [
      "optimization model '':\n",
      "#Variables: 39 (#bools:3 in objective)\n",
      "  - 39 Booleans in [0,1]\n",
      "#kLinear1: 11\n",
      "#kLinear3: 8\n",
      "#kLinearN: 103 (#terms: 447)\n"
     ]
    }
   ],
   "source": [
    "#---------------------------------- CP SOLVER ----------------------------------\n",
    "solver = cp_model.CpSolver()\n",
    "\n",
    "#---------------------------------- OBJECTIVE FUNCTIONS ---------------------------------\n",
    "\n",
    "# Maximize the number of allocated users\n",
    "objective_max = []\n",
    "for f in index:\n",
    "    for j in range(len(N)):\n",
    "        objective_max.append(x[j, f])\n",
    "model.Maximize(sum(objective_max))\n",
    "\n",
    "solver.Solve(model)\n",
    "max_users = solver.ObjectiveValue()\n",
    "\n",
    "# Hint (speed up solving)\n",
    "for f in index:\n",
    "    for j in range(len(N)):\n",
    "        model.AddHint(x[j,f], solver.Value(x[j,f]))\n",
    "\n",
    "for j in range(len(N)):\n",
    "    model.AddHint(y[j], solver.Value(y[j]))\n",
    "        \n",
    "# Constraint previous objective\n",
    "model.Add(\n",
    "    sum([\n",
    "        x[j, f] for j in range(len(N)) for f in index\n",
    "    ]) == round(solver.ObjectiveValue())\n",
    ")\n",
    "\n",
    "# Minimize the number of servers used\n",
    "objective_min = []\n",
    "for j in range(len(N)):\n",
    "    objective_min.append(y[j])\n",
    "model.Minimize(sum(objective_min))\n",
    "\n",
    "print(model.ModelStats())"
   ]
  },
  {
   "cell_type": "code",
   "execution_count": 122,
   "metadata": {},
   "outputs": [
    {
     "name": "stdout",
     "output_type": "stream",
     "text": [
      "Solution:\n",
      "Objective value: 8.0 requests have been allocated to 3.0 nodes\n",
      "\n",
      "Request 0 has been allocated on node 0\n",
      "Request 4 has been allocated on node 1\n",
      "Request 1 has been allocated on node 0\n",
      "Request 5 has been allocated on node 2\n",
      "Request 2 has been allocated on node 0\n",
      "Request 6 has been allocated on node 2\n",
      "Request 3 has been allocated on node 1\n",
      "Request 7 has been allocated on node 2\n"
     ]
    }
   ],
   "source": [
    "#-----------------------------------CALL THE SOLVER-----------------------------------\n",
    "status = solver.Solve(model)\n",
    "\n",
    "#-----------------------------------DISPLAY THE SOLUTION-----------------------------------\n",
    "\n",
    "if status == cp_model.OPTIMAL or status == cp_model.FEASIBLE:\n",
    "    print('Solution:')\n",
    "    print(f'Objective value: {max_users} requests have been allocated to {solver.ObjectiveValue()} nodes\\n')\n",
    "    for f in index:\n",
    "        for j in range(len(N)):\n",
    "            if int(solver.Value(x[j,f])) == 1:\n",
    "                print(f'Request {f} has been allocated on node {j}')\n",
    "else:\n",
    "    print('The problem does not have an optimal solution.')\n",
    "\n",
    "#print(\"\\n--- Run time: %s seconds ---\" % round((time.time() - start_time),2))"
   ]
  }
 ],
 "metadata": {
  "kernelspec": {
   "display_name": "Python 3",
   "language": "python",
   "name": "python3"
  },
  "language_info": {
   "codemirror_mode": {
    "name": "ipython",
    "version": 3
   },
   "file_extension": ".py",
   "mimetype": "text/x-python",
   "name": "python",
   "nbconvert_exporter": "python",
   "pygments_lexer": "ipython3",
   "version": "3.8.2"
  },
  "orig_nbformat": 4,
  "vscode": {
   "interpreter": {
    "hash": "570feb405e2e27c949193ac68f46852414290d515b0ba6e5d90d076ed2284471"
   }
  }
 },
 "nbformat": 4,
 "nbformat_minor": 2
}
