{
 "cells": [
  {
   "cell_type": "code",
   "execution_count": 1,
   "metadata": {},
   "outputs": [],
   "source": [
    "from ortools.linear_solver import pywraplp\n",
    "from ortools.init import pywrapinit\n",
    "import numpy as np\n",
    "from numpy import linalg as LA"
   ]
  },
  {
   "cell_type": "code",
   "execution_count": 2,
   "metadata": {},
   "outputs": [
    {
     "name": "stdout",
     "output_type": "stream",
     "text": [
      "[4, 2, 0, 1, 3, 7, 5, 6]\n"
     ]
    }
   ],
   "source": [
    "\n",
    "# Users\n",
    "U = list(range(0, 8))\n",
    "\n",
    "# Servers\n",
    "S = list(range(0, 3))\n",
    "\n",
    "# R = [CPU, RAM, VRAM, bandwidth]\n",
    "R = np.zeros((4), dtype=int)\n",
    "\n",
    "# Criticality\n",
    "\n",
    "# Users u has memory requirements = w_j\n",
    "#w = [[user_CPU for j in U],[user_RAM for j in U],[user_storage for j in U],[user_BW for j in U]]\n",
    "#w = np.full((len(D), len(U)), 2)\n",
    "\n",
    "# Each server has memory capacity C\n",
    "#C= [[server_CPU for i in S],[server_RAM for i in S],[server_storage for i in S],[server_BW for i in S]]\n",
    "#C = np.full((len(D), len(S)), 10)\n",
    "\n",
    "# User u has memory requirements = w\n",
    "W = []\n",
    "NORM = []\n",
    "for j in U:\n",
    "  w = np.random.randint(1,4,4) # 4 random integers from the range of 1 to 3.\n",
    "  W.append(w)\n",
    "  norm = LA.norm(w)\n",
    "  NORM.append(norm)\n",
    "\n",
    "index = sorted(range(len(NORM)), key=lambda a: NORM[a])\n",
    "print(index)\n",
    "\n",
    "# Each server has memory capacity c\n",
    "#C = np.full((len(D), len(S)), 10)\n",
    "C = []\n",
    "for i in S:\n",
    "  c = np.random.randint(8,11,4) # 4 random integers from the range of 8 to 10.\n",
    "  C.append(c)\n",
    " \n",
    "\n"
   ]
  },
  {
   "cell_type": "code",
   "execution_count": 3,
   "metadata": {},
   "outputs": [
    {
     "data": {
      "text/plain": [
       "'\\n# Users\\nU = list(range(0, 8))\\n\\n# Servers\\nS = list(range(0, 3))\\n\\n# D = [CPU, RAM, storage, bandwidth]\\nD = np.zeros((4), dtype=int)\\n\\nw1 = [2, 3, 1, 1]\\nw2 = [3, 3,\\t2, 1]\\nw3 = [1, 3,\\t1, 3]\\nw4 = [2, 3,\\t3, 1]\\nw5 = [3, 2,\\t2, 3]\\nw6 = [3, 1,\\t1, 2]\\nw7 = [2, 2, 3, 1]\\nw8 = [2, 3,\\t1, 3]\\nW = [w1, w2, w3, w4, w5, w6, w7, w8]\\n\\n\\nc1 = [10, 10, 8, 9]\\nc2 = [8, 10, 8, 10]\\nc3 = [10, 10, 9, 8]\\nC = [c1, c2, c3]\\n\\n\\nNORM = [LA.norm(w1), LA.norm(w2), LA.norm(w3), LA.norm(w4), LA.norm(w5), LA.norm(w6), LA.norm(w7), LA.norm(w8)]\\n\\nindex = sorted(range(len(NORM)), key=lambda a: NORM[a])\\n'"
      ]
     },
     "execution_count": 3,
     "metadata": {},
     "output_type": "execute_result"
    }
   ],
   "source": [
    "\"\"\"\n",
    "# Users\n",
    "U = list(range(0, 8))\n",
    "\n",
    "# Servers\n",
    "S = list(range(0, 3))\n",
    "\n",
    "# D = [CPU, RAM, storage, bandwidth]\n",
    "D = np.zeros((4), dtype=int)\n",
    "\n",
    "w1 = [2, 3, 1, 1]\n",
    "w2 = [3, 3,\t2, 1]\n",
    "w3 = [1, 3,\t1, 3]\n",
    "w4 = [2, 3,\t3, 1]\n",
    "w5 = [3, 2,\t2, 3]\n",
    "w6 = [3, 1,\t1, 2]\n",
    "w7 = [2, 2, 3, 1]\n",
    "w8 = [2, 3,\t1, 3]\n",
    "W = [w1, w2, w3, w4, w5, w6, w7, w8]\n",
    "\n",
    "\n",
    "c1 = [10, 10, 8, 9]\n",
    "c2 = [8, 10, 8, 10]\n",
    "c3 = [10, 10, 9, 8]\n",
    "C = [c1, c2, c3]\n",
    "\n",
    "\n",
    "NORM = [LA.norm(w1), LA.norm(w2), LA.norm(w3), LA.norm(w4), LA.norm(w5), LA.norm(w6), LA.norm(w7), LA.norm(w8)]\n",
    "\n",
    "index = sorted(range(len(NORM)), key=lambda a: NORM[a])\n",
    "\"\"\""
   ]
  },
  {
   "cell_type": "code",
   "execution_count": 4,
   "metadata": {},
   "outputs": [],
   "source": [
    "########## DECLARE THE MIP Solver ##########\n",
    "solver = pywraplp.Solver.CreateSolver('SCIP')"
   ]
  },
  {
   "cell_type": "code",
   "execution_count": 5,
   "metadata": {},
   "outputs": [
    {
     "name": "stdout",
     "output_type": "stream",
     "text": [
      "Number of variables = 27\n"
     ]
    }
   ],
   "source": [
    "########## DEFINE THE VARIABLES ##########\n",
    "# x_i,j = True if user u_j is allocated to edge server s_i\n",
    "# x_i,j = False otherwise\n",
    "x = {}\n",
    "for j in index:\n",
    "    for i in S:\n",
    "        x[i, j] = solver.BoolVar(f'c[{i}][{j}]')\n",
    "        #print(x[i,j])\n",
    "\n",
    "# y_i = True if edge server s_i is used to serve users\n",
    "# y_i = False otherwise\n",
    "y = {}\n",
    "for i in S:\n",
    "    y[i] = solver.BoolVar(f'c[{i}]')\n",
    "\n",
    "print('Number of variables =', solver.NumVariables())"
   ]
  },
  {
   "cell_type": "code",
   "execution_count": 6,
   "metadata": {},
   "outputs": [
    {
     "name": "stdout",
     "output_type": "stream",
     "text": [
      "Number of constraints = 20\n"
     ]
    }
   ],
   "source": [
    "########## DEFINE THE CONSTRAINTS ##########\n",
    "\n",
    "#Proximity constraint\n",
    "#for j in U:\n",
    "    #for i in S:\n",
    "        # Missing coverage condition: \n",
    "        #solver.Add(\n",
    "            #x[i, j]==0\n",
    "        #)\n",
    "\n",
    "# For each server i\n",
    "# the sum of memory requirements of the users allocated to server i\n",
    "# does not exceed the memory capacity of i\n",
    "for i in range(len(S)):\n",
    "    for k in range(len(D)):\n",
    "        solver.Add(\n",
    "            solver.Sum([\n",
    "                x[i, j] * W[j][k] for j in index\n",
    "                #x[i, j] * W[j][k] for j in range(len(U))\n",
    "            ]) <= C[i][k]*y[i]\n",
    "        )\n",
    "\n",
    "# Each user can be allocated just once\n",
    "for j in index:\n",
    "    solver.Add(\n",
    "        solver.Sum([x[i, j] for i in S]) <= 1\n",
    "    )\n",
    "\n",
    "# Constraint 3: x, y ≥ 0\n",
    "# has already been included in the definition of the variables\n",
    "\n",
    "print('Number of constraints =', solver.NumConstraints())"
   ]
  },
  {
   "cell_type": "code",
   "execution_count": 7,
   "metadata": {},
   "outputs": [],
   "source": [
    "########## DEFINE THE OBJECTIVE ##########\n",
    "\n",
    "# Maximize the number of allocated users\n",
    "objective = solver.Objective()\n",
    "for j in index:\n",
    "    for i in S:\n",
    "        objective.SetCoefficient(x[i, j], 1)\n",
    "objective.SetMaximization()\n",
    "\n",
    "# Minimize the number of required edge servers\n",
    "#objectiveMin = solver.Objective()\n",
    "\n",
    "#for i in S:\n",
    " #   objectiveMin.SetCoefficient(y[i], 1)\n",
    "#objectiveMin.SetMinimization()"
   ]
  },
  {
   "cell_type": "code",
   "execution_count": 8,
   "metadata": {},
   "outputs": [
    {
     "name": "stdout",
     "output_type": "stream",
     "text": [
      "Solution:\n",
      "Objective value = 8.0\n",
      "User 4 has been allocated on server 0\n",
      "User 2 has been allocated on server 0\n",
      "User 0 has been allocated on server 0\n",
      "User 1 has been allocated on server 0\n",
      "User 3 has been allocated on server 1\n",
      "User 7 has been allocated on server 1\n",
      "User 5 has been allocated on server 1\n",
      "User 6 has been allocated on server 2\n"
     ]
    }
   ],
   "source": [
    "########## CALL THE SOLVER ##########\n",
    "status = solver.Solve()\n",
    "\n",
    "\n",
    "########### DISPLAY THE SOLUTION ##########\n",
    "if status == pywraplp.Solver.OPTIMAL:\n",
    "    print('Solution:')\n",
    "    print('Objective value =', solver.Objective().Value())\n",
    "    for j in index:\n",
    "        for i in S:\n",
    "            if int(x[i,j].solution_value()) == 1:\n",
    "                print(f'User {j} has been allocated on server {i}')\n",
    "else:\n",
    "    print('The problem does not have an optimal solution.')"
   ]
  }
 ],
 "metadata": {
  "kernelspec": {
   "display_name": "Python 3.10.7 64-bit (microsoft store)",
   "language": "python",
   "name": "python3"
  },
  "language_info": {
   "codemirror_mode": {
    "name": "ipython",
    "version": 3
   },
   "file_extension": ".py",
   "mimetype": "text/x-python",
   "name": "python",
   "nbconvert_exporter": "python",
   "pygments_lexer": "ipython3",
   "version": "3.10.8"
  },
  "orig_nbformat": 4,
  "vscode": {
   "interpreter": {
    "hash": "bd1b91d025bd5626d9a7e922955196edefe7270d8ff49cce5fcf93ff6d8e300a"
   }
  }
 },
 "nbformat": 4,
 "nbformat_minor": 2
}
