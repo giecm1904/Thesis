{
 "cells": [
  {
   "cell_type": "code",
   "execution_count": 1,
   "metadata": {},
   "outputs": [],
   "source": [
    "from ortools.linear_solver import pywraplp\n",
    "from ortools.init import pywrapinit"
   ]
  },
  {
   "cell_type": "code",
   "execution_count": 2,
   "metadata": {},
   "outputs": [],
   "source": [
    "import numpy as np\n",
    "# Users\n",
    "U = list(range(0, 20))\n",
    "\n",
    "# Servers\n",
    "S = list(range(0, 3))\n",
    "\n",
    "# D = {CPU, RAM, storage, bandwidth}\n",
    "user_CPU = 2\n",
    "user_RAM = 2\n",
    "user_storage = 2\n",
    "user_BW = 2\n",
    "server_CPU = 10\n",
    "server_RAM = 10\n",
    "server_storage = 10\n",
    "server_BW = 10\n",
    "D = [server_CPU, server_RAM, server_storage, server_BW]\n",
    "\n",
    "# Users u has memory requirements = w_j\n",
    "w = [[user_CPU for j in U],[user_RAM for j in U],[user_storage for j in U],[user_BW for j in U]]\n",
    "\n",
    "# Each server has memory capacity C\n",
    "C= [[server_CPU for i in S],[server_RAM for i in S],[server_storage for i in S],[server_BW for i in S]]"
   ]
  },
  {
   "cell_type": "code",
   "execution_count": 3,
   "metadata": {},
   "outputs": [],
   "source": [
    "########## DECLARE THE MIP Solver ##########\n",
    "solver = pywraplp.Solver.CreateSolver('SCIP')"
   ]
  },
  {
   "cell_type": "code",
   "execution_count": 4,
   "metadata": {},
   "outputs": [
    {
     "name": "stdout",
     "output_type": "stream",
     "text": [
      "Number of variables = 63\n"
     ]
    }
   ],
   "source": [
    "########## DEFINE THE VARIABLES ##########\n",
    "# x_i,j = True if user u_j is allocated to edge server s_i\n",
    "# x_i,j = False otherwise\n",
    "x = {}\n",
    "for j in U:\n",
    "    for i in S:\n",
    "        x[i, j] = solver.BoolVar(f'c[{i}][{j}]')\n",
    "        #print(x[i,j])\n",
    "\n",
    "# y_i = True if edge server s_i is used to serve users\n",
    "# y_i = False otherwise\n",
    "y = {}\n",
    "for i in S:\n",
    "    y[i] = solver.BoolVar(f'c[{i}]')\n",
    "\n",
    "print('Number of variables =', solver.NumVariables())"
   ]
  },
  {
   "cell_type": "code",
   "execution_count": 5,
   "metadata": {},
   "outputs": [
    {
     "name": "stdout",
     "output_type": "stream",
     "text": [
      "Number of constraints = 32\n"
     ]
    }
   ],
   "source": [
    "########## DEFINE THE CONSTRAINTS ##########\n",
    "\n",
    "#Proximity constraint\n",
    "#for j in U:\n",
    "    #for i in S:\n",
    "        # Missing coverage condition: \n",
    "        #solver.Add(\n",
    "            #x[i, j]==0\n",
    "        #)\n",
    "\n",
    "# For each server i\n",
    "# the sum of memory requirements of the users allocated to server i\n",
    "# does not exceed the memory capacity of i\n",
    "for i in range(len(S)):\n",
    "    for k in range(len(D)):\n",
    "        solver.Add(\n",
    "            solver.Sum([\n",
    "                x[i, j] * w[k][j] for j in range(len(U))\n",
    "            ]) <= C[k][i]*y[i]\n",
    "        )\n",
    "\n",
    "# Each user can be allocated just once\n",
    "for j in U:\n",
    "    solver.Add(\n",
    "        solver.Sum([x[i, j] for i in S]) <= 1\n",
    "    )\n",
    "\n",
    "# Constraint 3: x, y ≥ 0\n",
    "# has already been included in the definition of the variables\n",
    "\n",
    "print('Number of constraints =', solver.NumConstraints())"
   ]
  },
  {
   "cell_type": "code",
   "execution_count": 6,
   "metadata": {},
   "outputs": [],
   "source": [
    "########## DEFINE THE OBJECTIVE ##########\n",
    "\n",
    "# Maximize the number of allocated users\n",
    "objective = solver.Objective()\n",
    "for j in U:\n",
    "    for i in S:\n",
    "        objective.SetCoefficient(x[i, j], 1)\n",
    "objective.SetMaximization()\n",
    "\n",
    "# Minimize the number of required edge servers\n",
    "#objectiveMin = solver.Objective()\n",
    "\n",
    "#for i in S:\n",
    " #   objectiveMin.SetCoefficient(y[i], 1)\n",
    "#objectiveMin.SetMinimization()"
   ]
  },
  {
   "cell_type": "code",
   "execution_count": 7,
   "metadata": {},
   "outputs": [
    {
     "name": "stdout",
     "output_type": "stream",
     "text": [
      "Solution:\n",
      "Objective value = 15.0\n",
      "User 0 has been allocated on node 0\n",
      "User 1 has been allocated on node 0\n",
      "User 2 has been allocated on node 0\n",
      "User 3 has been allocated on node 0\n",
      "User 4 has been allocated on node 0\n",
      "User 5 has been allocated on node 1\n",
      "User 6 has been allocated on node 1\n",
      "User 7 has been allocated on node 1\n",
      "User 8 has been allocated on node 1\n",
      "User 9 has been allocated on node 1\n",
      "User 10 has been allocated on node 2\n",
      "User 11 has been allocated on node 2\n",
      "User 12 has been allocated on node 2\n",
      "User 13 has been allocated on node 2\n",
      "User 14 has been allocated on node 2\n"
     ]
    }
   ],
   "source": [
    "########## CALL THE SOLVER ##########\n",
    "status = solver.Solve()\n",
    "\n",
    "\n",
    "########### DISPLAY THE SOLUTION ##########\n",
    "if status == pywraplp.Solver.OPTIMAL:\n",
    "    print('Solution:')\n",
    "    print('Objective value =', solver.Objective().Value())\n",
    "    for j in U:\n",
    "        for i in S:\n",
    "            if int(x[i,j].solution_value()) == 1:\n",
    "                print(f'User {j} has been allocated on node {i}')\n",
    "else:\n",
    "    print('The problem does not have an optimal solution.')"
   ]
  }
 ],
 "metadata": {
  "kernelspec": {
   "display_name": "Python 3.10.7 64-bit (microsoft store)",
   "language": "python",
   "name": "python3"
  },
  "language_info": {
   "codemirror_mode": {
    "name": "ipython",
    "version": 3
   },
   "file_extension": ".py",
   "mimetype": "text/x-python",
   "name": "python",
   "nbconvert_exporter": "python",
   "pygments_lexer": "ipython3",
   "version": "3.10.8"
  },
  "orig_nbformat": 4,
  "vscode": {
   "interpreter": {
    "hash": "bd1b91d025bd5626d9a7e922955196edefe7270d8ff49cce5fcf93ff6d8e300a"
   }
  }
 },
 "nbformat": 4,
 "nbformat_minor": 2
}
