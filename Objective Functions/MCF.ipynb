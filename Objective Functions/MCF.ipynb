{
 "cells": [
  {
   "cell_type": "code",
   "execution_count": null,
   "metadata": {},
   "outputs": [
    {
     "ename": "",
     "evalue": "",
     "output_type": "error",
     "traceback": [
      "\u001b[1;31mLa ejecución de celdas con 'Python 3.10.7 64-bit (microsoft store)' requieren el paquete ipykernel.\n",
      "\u001b[1;31mEjecute el siguiente comando para instalar 'ipykernel' en el entorno de Python. comando \n",
      "\u001b[1;31m: '\"c:/Users/Adrian Giraldo/AppData/Local/Microsoft/WindowsApps/python3.10.exe\" -m pip install ipykernel -U --force-reinstall'"
     ]
    }
   ],
   "source": [
    "from ortools.linear_solver import pywraplp\n",
    "from ortools.init import pywrapinit"
   ]
  },
  {
   "cell_type": "code",
   "execution_count": null,
   "metadata": {},
   "outputs": [],
   "source": [
    "import numpy as np\n",
    "\n",
    "# 8 users\n",
    "U = list(range(0, 8))\n",
    "\n",
    "# 3 servers\n",
    "S = list(range(0, 3))\n",
    "\n",
    "# D = {CPU, RAM, storage, bandwidth}\n",
    "#D = np.random.randint(1,4,4)\n",
    "D = np.full((1, 4), 2, dtype=int)\n",
    "#D = [2, 2]\n",
    "# Users u has memory requirements = w_j\n",
    "w = [D for j in U]\n",
    "# User j have a memory requirements = j\n",
    "#mem = [j for j in U]\n",
    "\n",
    "# Each server has a memory capacity of [10, 10, 10, 10]\n",
    "C = np.full((1, 4), 10, dtype=int)\n",
    "#C = [10, 10]\n",
    "# Server i has memory capacity = c_i\n",
    "M = [C for i in S]"
   ]
  },
  {
   "cell_type": "code",
   "execution_count": null,
   "metadata": {},
   "outputs": [],
   "source": [
    "########## DECLARE THE MIP Solver ##########\n",
    "solver = pywraplp.Solver.CreateSolver('SCIP')"
   ]
  },
  {
   "cell_type": "code",
   "execution_count": null,
   "metadata": {},
   "outputs": [],
   "source": [
    "########## DEFINE THE VARIABLES ##########\n",
    "# x_i,j = True if user u_j is allocated to edge server s_i\n",
    "# x_i,j = False otherwise\n",
    "x = {}\n",
    "for j in U:\n",
    "    for i in S:\n",
    "        x[i, j] = solver.BoolVar(f'c[{i}][{j}]')\n",
    "        #print(x[i,j])\n",
    "\n",
    "print('Number of variables =', solver.NumVariables())"
   ]
  },
  {
   "cell_type": "code",
   "execution_count": null,
   "metadata": {},
   "outputs": [],
   "source": [
    "########## DEFINE THE CONSTRAINTS ##########\n",
    "# For each server i\n",
    "# the sum of memory requirements of the users allocated to server i\n",
    "# does not exceed the memory capacity of i\n",
    "for i in S:\n",
    "    # compare here the arrays\n",
    "    #if yes then solver.Add\n",
    "    solver.Add(\n",
    "        solver.Sum([\n",
    "            x[i, j] * w[j].all() for j in U\n",
    "        ]) <= M[i].all()\n",
    "    )\n",
    "\n",
    "# Each user can be allocated just once\n",
    "#for j in U:\n",
    "#    solver.Add(\n",
    "#        solver.Sum([x[i, j] for i in S]) <= 1\n",
    "#    )\n",
    "\n",
    "# Constraint 3: x, y ≥ 0\n",
    "# has already been included in the definition of the variables\n",
    "\n",
    "print('Number of constraints =', solver.NumConstraints())"
   ]
  }
 ],
 "metadata": {
  "kernelspec": {
   "display_name": "Python 3.10.7 64-bit (microsoft store)",
   "language": "python",
   "name": "python3"
  },
  "language_info": {
   "codemirror_mode": {
    "name": "ipython",
    "version": 3
   },
   "file_extension": ".py",
   "mimetype": "text/x-python",
   "name": "python",
   "nbconvert_exporter": "python",
   "pygments_lexer": "ipython3",
   "version": "3.10.7"
  },
  "orig_nbformat": 4,
  "vscode": {
   "interpreter": {
    "hash": "bd1b91d025bd5626d9a7e922955196edefe7270d8ff49cce5fcf93ff6d8e300a"
   }
  }
 },
 "nbformat": 4,
 "nbformat_minor": 2
}
