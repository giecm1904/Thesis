{
 "cells": [
  {
   "cell_type": "code",
   "execution_count": 2,
   "metadata": {},
   "outputs": [],
   "source": [
    "from ortools.linear_solver import pywraplp\n",
    "from ortools.init import pywrapinit"
   ]
  },
  {
   "cell_type": "code",
   "execution_count": null,
   "metadata": {},
   "outputs": [],
   "source": [
    "import numpy as np\n",
    "\n",
    "# 8 users\n",
    "U = list(range(0, 8))\n",
    "\n",
    "# 3 servers\n",
    "S = list(range(0, 3))\n",
    "\n",
    "# D = {CPU, RAM, storage, bandwidth}\n",
    "#D = np.random.randint(1,4,4)\n",
    "D = np.full((1, 4), 2, dtype=int)\n",
    "#D = [2, 2]\n",
    "# Users u has memory requirements = w_j\n",
    "w = [D for j in U]\n",
    "# User j have a memory requirements = j\n",
    "#mem = [j for j in U]\n",
    "\n",
    "# Each server has a memory capacity of [10, 10, 10, 10]\n",
    "C = np.full((1, 4), 10, dtype=int)\n",
    "#C = [10, 10]\n",
    "# Server i has memory capacity = c_i\n",
    "M = [C for i in S]"
   ]
  },
  {
   "cell_type": "code",
   "execution_count": null,
   "metadata": {},
   "outputs": [],
   "source": []
  }
 ],
 "metadata": {
  "kernelspec": {
   "display_name": "Python 3.10.7 64-bit (microsoft store)",
   "language": "python",
   "name": "python3"
  },
  "language_info": {
   "codemirror_mode": {
    "name": "ipython",
    "version": 3
   },
   "file_extension": ".py",
   "mimetype": "text/x-python",
   "name": "python",
   "nbconvert_exporter": "python",
   "pygments_lexer": "ipython3",
   "version": "3.10.7"
  },
  "orig_nbformat": 4,
  "vscode": {
   "interpreter": {
    "hash": "bd1b91d025bd5626d9a7e922955196edefe7270d8ff49cce5fcf93ff6d8e300a"
   }
  }
 },
 "nbformat": 4,
 "nbformat_minor": 2
}
